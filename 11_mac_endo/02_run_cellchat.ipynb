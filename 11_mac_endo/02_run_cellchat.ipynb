{
 "cells": [
  {
   "cell_type": "code",
   "execution_count": 1,
   "id": "70ba1576-b2f7-4db0-a17e-a1a38a13a90a",
   "metadata": {},
   "outputs": [],
   "source": [
    "suppressMessages(library(Seurat))\n",
    "suppressMessages(library(ggplot2))\n",
    "suppressMessages(library(patchwork))\n",
    "suppressMessages(library(dplyr))\n",
    "suppressMessages(library(CellChat))\n",
    "suppressMessages(library(foreach))"
   ]
  },
  {
   "cell_type": "code",
   "execution_count": 2,
   "id": "38bc2bf4-3ba9-4bb1-a864-6283182e010a",
   "metadata": {},
   "outputs": [],
   "source": [
    "in_dir <- \"../../results/11_mac_endo/01_integrate_data\"\n",
    "out_dir <- \"../../results/11_mac_endo/02_run_cellchat\"\n",
    "\n",
    "if(!dir.exists(out_dir)){\n",
    "    dir.create(out_dir, recursive = TRUE)\n",
    "}"
   ]
  },
  {
   "cell_type": "code",
   "execution_count": 3,
   "id": "32e4cbff-bbbf-4d1b-ad94-daf429815a6b",
   "metadata": {},
   "outputs": [],
   "source": [
    "seurat_object <- readRDS(glue::glue(\"{in_dir}/obj.rds\"))"
   ]
  },
  {
   "cell_type": "code",
   "execution_count": 4,
   "id": "e18a4030-bf65-4fe9-bcbe-73ecdda77169",
   "metadata": {},
   "outputs": [
    {
     "data": {
      "text/html": [
       "<style>\n",
       ".list-inline {list-style: none; margin:0; padding: 0}\n",
       ".list-inline>li {display: inline-block}\n",
       ".list-inline>li:not(:last-child)::after {content: \"\\00b7\"; padding: 0 .5ex}\n",
       "</style>\n",
       "<ol class=list-inline><li>'A1BG'</li><li>'A1BG-AS1'</li><li>'A2M'</li><li>'A2M-AS1'</li><li>'A2ML1'</li><li>'A4GALT'</li></ol>\n"
      ],
      "text/latex": [
       "\\begin{enumerate*}\n",
       "\\item 'A1BG'\n",
       "\\item 'A1BG-AS1'\n",
       "\\item 'A2M'\n",
       "\\item 'A2M-AS1'\n",
       "\\item 'A2ML1'\n",
       "\\item 'A4GALT'\n",
       "\\end{enumerate*}\n"
      ],
      "text/markdown": [
       "1. 'A1BG'\n",
       "2. 'A1BG-AS1'\n",
       "3. 'A2M'\n",
       "4. 'A2M-AS1'\n",
       "5. 'A2ML1'\n",
       "6. 'A4GALT'\n",
       "\n",
       "\n"
      ],
      "text/plain": [
       "[1] \"A1BG\"     \"A1BG-AS1\" \"A2M\"      \"A2M-AS1\"  \"A2ML1\"    \"A4GALT\"  "
      ]
     },
     "metadata": {},
     "output_type": "display_data"
    }
   ],
   "source": [
    "head(rownames(seurat_object))"
   ]
  },
  {
   "cell_type": "code",
   "execution_count": 5,
   "id": "e3917110-c069-4a63-9648-33e8381a3a50",
   "metadata": {},
   "outputs": [
    {
     "name": "stdout",
     "output_type": "stream",
     "text": [
      "[1] \"Create a CellChat object from a Seurat object\"\n",
      "The `data` slot in the default assay is used. The default assay is RNA \n",
      "The `meta.data` slot in the Seurat object is used as cell meta information \n"
     ]
    },
    {
     "name": "stderr",
     "output_type": "stream",
     "text": [
      "Warning message in createCellChat(object = seurat_object, group.by = \"sub_clusters\"):\n",
      "“The 'meta' data does not have a column named `samples`. We now add this column and all cells are assumed to belong to `sample1`! \n",
      "”\n"
     ]
    },
    {
     "name": "stdout",
     "output_type": "stream",
     "text": [
      "Set cell identities for the new CellChat object \n",
      "The cell groups used for CellChat analysis are  Antigen-presenting, Phagocytic, Pro-inflammatory, ArtEC, CapEC, EndoMT-1, EndoMT-2, LEC, VenEC \n"
     ]
    }
   ],
   "source": [
    "cellchat <- createCellChat(object = seurat_object, group.by = \"sub_clusters\")"
   ]
  },
  {
   "cell_type": "code",
   "execution_count": 6,
   "id": "2d0fe9fe-69de-4ce0-abd2-43d990406b91",
   "metadata": {},
   "outputs": [],
   "source": [
    "CellChatDB <- CellChatDB.human"
   ]
  },
  {
   "cell_type": "code",
   "execution_count": 7,
   "id": "525cfa32-8f91-4711-b098-9f852ca576d0",
   "metadata": {},
   "outputs": [],
   "source": [
    "# use all CellChatDB except for \"Non-protein Signaling\" for cell-cell communication analysis\n",
    "CellChatDB.use <- subsetDB(CellChatDB)"
   ]
  },
  {
   "cell_type": "code",
   "execution_count": 8,
   "id": "989e0601-920b-4964-b6d6-7442588a7ba3",
   "metadata": {},
   "outputs": [],
   "source": [
    "cellchat@DB <- CellChatDB.use"
   ]
  },
  {
   "cell_type": "code",
   "execution_count": 9,
   "id": "09194e41-17ce-4a4e-87b2-21d9eedb69ed",
   "metadata": {},
   "outputs": [
    {
     "name": "stdout",
     "output_type": "stream",
     "text": [
      "The number of highly variable ligand-receptor pairs used for signaling inference is 1277 \n"
     ]
    }
   ],
   "source": [
    "cellchat <- CellChat::subsetData(cellchat) # This step is necessary even if using the whole database\n",
    "\n",
    "cellchat <- CellChat::identifyOverExpressedGenes(cellchat)\n",
    "cellchat <- CellChat::identifyOverExpressedInteractions(cellchat, variable.both = F)"
   ]
  },
  {
   "cell_type": "code",
   "execution_count": 10,
   "id": "15232fa1-6dca-45d2-9e11-7b9b324910ea",
   "metadata": {},
   "outputs": [
    {
     "name": "stdout",
     "output_type": "stream",
     "text": [
      "triMean is used for calculating the average gene expression per cell group. \n",
      "[1] \">>> Run CellChat on sc/snRNA-seq data <<< [2024-12-12 15:05:35.868072]\"\n",
      "[1] \">>> CellChat inference is done. Parameter values are stored in `object@options$parameter` <<< [2024-12-12 15:08:21.577673]\"\n"
     ]
    }
   ],
   "source": [
    "cellchat <- computeCommunProb(cellchat, type = \"triMean\")\n",
    "cellchat <- CellChat::filterCommunication(cellchat, min.cells = 10)"
   ]
  },
  {
   "cell_type": "code",
   "execution_count": 11,
   "id": "270bc805-6371-40af-84b7-e4248fe15adb",
   "metadata": {},
   "outputs": [],
   "source": [
    "cellchat <- computeCommunProbPathway(cellchat)\n",
    "cellchat <- aggregateNet(cellchat)"
   ]
  },
  {
   "cell_type": "code",
   "execution_count": 12,
   "id": "945bdba2-7944-4487-af19-f75cfd586101",
   "metadata": {},
   "outputs": [],
   "source": [
    "saveRDS(cellchat, glue::glue(\"{out_dir}/obj.rds\"))"
   ]
  },
  {
   "cell_type": "code",
   "execution_count": null,
   "id": "6411e2cb-5a88-446a-a1d8-6bbb8dfa8118",
   "metadata": {},
   "outputs": [],
   "source": []
  }
 ],
 "metadata": {
  "kernelspec": {
   "display_name": "R [conda env:zl_ssc]",
   "language": "R",
   "name": "conda-env-zl_ssc-r"
  },
  "language_info": {
   "codemirror_mode": "r",
   "file_extension": ".r",
   "mimetype": "text/x-r-source",
   "name": "R",
   "pygments_lexer": "r",
   "version": "4.3.3"
  }
 },
 "nbformat": 4,
 "nbformat_minor": 5
}
