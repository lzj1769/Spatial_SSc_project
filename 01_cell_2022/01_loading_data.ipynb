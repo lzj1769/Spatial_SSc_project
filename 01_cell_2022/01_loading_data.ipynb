{
 "cells": [
  {
   "cell_type": "code",
   "execution_count": 2,
   "id": "0cb877e6-d43c-43da-9fc4-30902644cb4a",
   "metadata": {},
   "outputs": [],
   "source": [
    "import scanpy as sc\n",
    "import pandas as pd\n",
    "import os\n",
    "import anndata as ad\n",
    "import scipy as sp\n",
    "from tqdm import tqdm"
   ]
  },
  {
   "cell_type": "code",
   "execution_count": 2,
   "id": "7355615d-0f45-4e12-b77b-f8853c73bd7e",
   "metadata": {},
   "outputs": [
    {
     "name": "stderr",
     "output_type": "stream",
     "text": [
      "/tmp/ipykernel_193527/2914917506.py:1: DtypeWarning: Columns (7) have mixed types. Specify dtype option on import or set low_memory=False.\n",
      "  df_anno = pd.read_csv('../../data/GSE195452/GSE195452_Cell_metadata_v26_anno.txt',\n"
     ]
    }
   ],
   "source": [
    "df_anno = pd.read_csv('../../data/GSE195452/GSE195452_Cell_metadata_v26_anno.txt',\n",
    "                      sep=\"\\t\")"
   ]
  },
  {
   "cell_type": "code",
   "execution_count": 3,
   "id": "e71f87f4-1b93-440d-886d-26116bd20ca9",
   "metadata": {},
   "outputs": [
    {
     "data": {
      "text/html": [
       "<div>\n",
       "<style scoped>\n",
       "    .dataframe tbody tr th:only-of-type {\n",
       "        vertical-align: middle;\n",
       "    }\n",
       "\n",
       "    .dataframe tbody tr th {\n",
       "        vertical-align: top;\n",
       "    }\n",
       "\n",
       "    .dataframe thead th {\n",
       "        text-align: right;\n",
       "    }\n",
       "</style>\n",
       "<table border=\"1\" class=\"dataframe\">\n",
       "  <thead>\n",
       "    <tr style=\"text-align: right;\">\n",
       "      <th></th>\n",
       "      <th>Well_ID</th>\n",
       "      <th>well_coordinates</th>\n",
       "      <th>Amp_batch_ID</th>\n",
       "      <th>Cell_barcode</th>\n",
       "      <th>Seq_batch_ID</th>\n",
       "      <th>Pool_barcode</th>\n",
       "      <th>Pool_barcode_i5</th>\n",
       "      <th>Number_of_cells</th>\n",
       "      <th>annotation</th>\n",
       "    </tr>\n",
       "  </thead>\n",
       "  <tbody>\n",
       "    <tr>\n",
       "      <th>WMC2588321</th>\n",
       "      <td>WMC2588321</td>\n",
       "      <td>A1</td>\n",
       "      <td>AB10128</td>\n",
       "      <td>CTATTCG</td>\n",
       "      <td>SB400</td>\n",
       "      <td>GTCACTGT</td>\n",
       "      <td>TAACGGCT</td>\n",
       "      <td>1</td>\n",
       "      <td>_</td>\n",
       "    </tr>\n",
       "    <tr>\n",
       "      <th>WMC2588322</th>\n",
       "      <td>WMC2588322</td>\n",
       "      <td>C1</td>\n",
       "      <td>AB10128</td>\n",
       "      <td>ACTCAGG</td>\n",
       "      <td>SB400</td>\n",
       "      <td>GTCACTGT</td>\n",
       "      <td>TAACGGCT</td>\n",
       "      <td>1</td>\n",
       "      <td>_</td>\n",
       "    </tr>\n",
       "    <tr>\n",
       "      <th>WMC2588323</th>\n",
       "      <td>WMC2588323</td>\n",
       "      <td>E1</td>\n",
       "      <td>AB10128</td>\n",
       "      <td>ACACGTG</td>\n",
       "      <td>SB400</td>\n",
       "      <td>GTCACTGT</td>\n",
       "      <td>TAACGGCT</td>\n",
       "      <td>1</td>\n",
       "      <td>Peri_RGS5</td>\n",
       "    </tr>\n",
       "    <tr>\n",
       "      <th>WMC2588324</th>\n",
       "      <td>WMC2588324</td>\n",
       "      <td>G1</td>\n",
       "      <td>AB10128</td>\n",
       "      <td>TCTTCGA</td>\n",
       "      <td>SB400</td>\n",
       "      <td>GTCACTGT</td>\n",
       "      <td>TAACGGCT</td>\n",
       "      <td>1</td>\n",
       "      <td>Fibro_MYOC1</td>\n",
       "    </tr>\n",
       "    <tr>\n",
       "      <th>WMC2588325</th>\n",
       "      <td>WMC2588325</td>\n",
       "      <td>I1</td>\n",
       "      <td>AB10128</td>\n",
       "      <td>AGCACTG</td>\n",
       "      <td>SB400</td>\n",
       "      <td>GTCACTGT</td>\n",
       "      <td>TAACGGCT</td>\n",
       "      <td>1</td>\n",
       "      <td>_</td>\n",
       "    </tr>\n",
       "  </tbody>\n",
       "</table>\n",
       "</div>"
      ],
      "text/plain": [
       "               Well_ID well_coordinates Amp_batch_ID Cell_barcode  \\\n",
       "WMC2588321  WMC2588321               A1      AB10128      CTATTCG   \n",
       "WMC2588322  WMC2588322               C1      AB10128      ACTCAGG   \n",
       "WMC2588323  WMC2588323               E1      AB10128      ACACGTG   \n",
       "WMC2588324  WMC2588324               G1      AB10128      TCTTCGA   \n",
       "WMC2588325  WMC2588325               I1      AB10128      AGCACTG   \n",
       "\n",
       "           Seq_batch_ID Pool_barcode Pool_barcode_i5  Number_of_cells  \\\n",
       "WMC2588321        SB400     GTCACTGT        TAACGGCT                1   \n",
       "WMC2588322        SB400     GTCACTGT        TAACGGCT                1   \n",
       "WMC2588323        SB400     GTCACTGT        TAACGGCT                1   \n",
       "WMC2588324        SB400     GTCACTGT        TAACGGCT                1   \n",
       "WMC2588325        SB400     GTCACTGT        TAACGGCT                1   \n",
       "\n",
       "             annotation  \n",
       "WMC2588321            _  \n",
       "WMC2588322            _  \n",
       "WMC2588323    Peri_RGS5  \n",
       "WMC2588324  Fibro_MYOC1  \n",
       "WMC2588325            _  "
      ]
     },
     "execution_count": 3,
     "metadata": {},
     "output_type": "execute_result"
    }
   ],
   "source": [
    "df_anno.head()"
   ]
  },
  {
   "cell_type": "code",
   "execution_count": 4,
   "id": "352d16ee-a7dd-4a93-b0cb-2a27b13bc838",
   "metadata": {},
   "outputs": [],
   "source": [
    "df2 = pd.read_csv('../../data/GSE195452/SraRunTable.txt')"
   ]
  },
  {
   "cell_type": "code",
   "execution_count": 5,
   "id": "8ad4d779-bfcb-4734-8570-4d7e52dfb194",
   "metadata": {},
   "outputs": [
    {
     "name": "stderr",
     "output_type": "stream",
     "text": [
      "100%|██████████| 723/723 [12:04<00:00,  1.00s/it]\n"
     ]
    }
   ],
   "source": [
    "# read counts\n",
    "directory = '../../data/GSE195452/rna'\n",
    "adata_list = list()\n",
    "\n",
    "for root, dirs, files in os.walk(directory):\n",
    "    for filename in tqdm(files):\n",
    "        df = pd.read_csv(os.path.join(root, filename), sep='\\t').transpose()\n",
    "        \n",
    "        counts = sp.sparse.csr_matrix(df.to_numpy())\n",
    "        \n",
    "        adata = ad.AnnData(counts)\n",
    "        adata.obs_names = df.index.values.tolist()\n",
    "        adata.var_names = df.columns.values.tolist()\n",
    "        \n",
    "        adata.obs = df_anno.loc[adata.obs_names, ]\n",
    "        \n",
    "        sample_name = filename.split(\"_\")[0]\n",
    "        sample_info = df2[df2['Sample Name'] == sample_name]\n",
    "        \n",
    "        adata.obs['sample_name'] = sample_name\n",
    "        adata.obs['selection_marker'] = sample_info['selection_marker'].values.tolist()[0]\n",
    "        adata.obs['source_name'] = sample_info['source_name'].values.tolist()[0]\n",
    "        adata.obs['tissue'] = sample_info['Tissue'].values.tolist()[0]\n",
    "        adata.obs['patient_id'] = sample_info['PATIENT_ID'].values.tolist()[0]\n",
    "        adata.obs['organism'] = sample_info['Organism'].values.tolist()[0]\n",
    "        \n",
    "        adata_list.append(adata)"
   ]
  },
  {
   "cell_type": "code",
   "execution_count": 6,
   "id": "394a13ac-3f0b-4cc4-a837-6b5a6b2f285e",
   "metadata": {},
   "outputs": [],
   "source": [
    "adata = ad.concat(adata_list, label=\"batch\", index_unique=\"_\")"
   ]
  },
  {
   "cell_type": "code",
   "execution_count": 7,
   "id": "9086f5fa-455d-4ba4-805e-5568f0525706",
   "metadata": {},
   "outputs": [],
   "source": [
    "# filter cells by annotation\n",
    "adata = adata[adata.obs['annotation'] != '_']"
   ]
  },
  {
   "cell_type": "code",
   "execution_count": 8,
   "id": "3f801a7e-3ce5-4081-889f-7fb41d1dde31",
   "metadata": {},
   "outputs": [
    {
     "name": "stderr",
     "output_type": "stream",
     "text": [
      "/data/pinello/SHARED_SOFTWARE/anaconda_latest/envs/zl_spatial/lib/python3.10/site-packages/anndata/_core/anndata.py:1222: ImplicitModificationWarning: Trying to modify attribute `.obs` of view, initializing view as actual.\n",
      "  df[key] = c\n",
      "/data/pinello/SHARED_SOFTWARE/anaconda_latest/envs/zl_spatial/lib/python3.10/site-packages/anndata/_core/anndata.py:1222: ImplicitModificationWarning: Trying to modify attribute `.obs` of view, initializing view as actual.\n",
      "  df[key] = c\n",
      "/data/pinello/SHARED_SOFTWARE/anaconda_latest/envs/zl_spatial/lib/python3.10/site-packages/anndata/_core/anndata.py:1222: ImplicitModificationWarning: Trying to modify attribute `.obs` of view, initializing view as actual.\n",
      "  df[key] = c\n",
      "/data/pinello/SHARED_SOFTWARE/anaconda_latest/envs/zl_spatial/lib/python3.10/site-packages/anndata/_core/anndata.py:1222: ImplicitModificationWarning: Trying to modify attribute `.obs` of view, initializing view as actual.\n",
      "  df[key] = c\n",
      "/data/pinello/SHARED_SOFTWARE/anaconda_latest/envs/zl_spatial/lib/python3.10/site-packages/anndata/_core/anndata.py:1222: ImplicitModificationWarning: Trying to modify attribute `.obs` of view, initializing view as actual.\n",
      "  df[key] = c\n",
      "/data/pinello/SHARED_SOFTWARE/anaconda_latest/envs/zl_spatial/lib/python3.10/site-packages/anndata/_core/anndata.py:1222: ImplicitModificationWarning: Trying to modify attribute `.obs` of view, initializing view as actual.\n",
      "  df[key] = c\n",
      "/data/pinello/SHARED_SOFTWARE/anaconda_latest/envs/zl_spatial/lib/python3.10/site-packages/anndata/_core/anndata.py:1222: ImplicitModificationWarning: Trying to modify attribute `.obs` of view, initializing view as actual.\n",
      "  df[key] = c\n",
      "/data/pinello/SHARED_SOFTWARE/anaconda_latest/envs/zl_spatial/lib/python3.10/site-packages/anndata/_core/anndata.py:1222: ImplicitModificationWarning: Trying to modify attribute `.obs` of view, initializing view as actual.\n",
      "  df[key] = c\n",
      "/data/pinello/SHARED_SOFTWARE/anaconda_latest/envs/zl_spatial/lib/python3.10/site-packages/anndata/_core/anndata.py:1222: ImplicitModificationWarning: Trying to modify attribute `.obs` of view, initializing view as actual.\n",
      "  df[key] = c\n",
      "/data/pinello/SHARED_SOFTWARE/anaconda_latest/envs/zl_spatial/lib/python3.10/site-packages/anndata/_core/anndata.py:1222: ImplicitModificationWarning: Trying to modify attribute `.obs` of view, initializing view as actual.\n",
      "  df[key] = c\n",
      "/data/pinello/SHARED_SOFTWARE/anaconda_latest/envs/zl_spatial/lib/python3.10/site-packages/anndata/_core/anndata.py:1222: ImplicitModificationWarning: Trying to modify attribute `.obs` of view, initializing view as actual.\n",
      "  df[key] = c\n",
      "/data/pinello/SHARED_SOFTWARE/anaconda_latest/envs/zl_spatial/lib/python3.10/site-packages/anndata/_core/anndata.py:1222: ImplicitModificationWarning: Trying to modify attribute `.obs` of view, initializing view as actual.\n",
      "  df[key] = c\n",
      "/data/pinello/SHARED_SOFTWARE/anaconda_latest/envs/zl_spatial/lib/python3.10/site-packages/anndata/_core/anndata.py:1222: ImplicitModificationWarning: Trying to modify attribute `.obs` of view, initializing view as actual.\n",
      "  df[key] = c\n"
     ]
    }
   ],
   "source": [
    "adata.write_h5ad('../../results/cell_2022/scrna.h5ad')"
   ]
  },
  {
   "cell_type": "code",
   "execution_count": 9,
   "id": "4f62230a-12f9-42f1-8d65-992d57cd8b4c",
   "metadata": {},
   "outputs": [
    {
     "data": {
      "text/plain": [
       "AnnData object with n_obs × n_vars = 147836 × 57874\n",
       "    obs: 'Well_ID', 'well_coordinates', 'Amp_batch_ID', 'Cell_barcode', 'Seq_batch_ID', 'Pool_barcode', 'Pool_barcode_i5', 'Number_of_cells', 'annotation', 'sample_name', 'selection_marker', 'source_name', 'tissue', 'patient_id', 'organism', 'batch'"
      ]
     },
     "execution_count": 9,
     "metadata": {},
     "output_type": "execute_result"
    }
   ],
   "source": [
    "adata"
   ]
  },
  {
   "cell_type": "code",
   "execution_count": null,
   "id": "260c4538-ef24-41ad-a52c-bf83ed7cbc2d",
   "metadata": {},
   "outputs": [],
   "source": []
  }
 ],
 "metadata": {
  "kernelspec": {
   "display_name": "Python [conda env:zl_spatial]",
   "language": "python",
   "name": "conda-env-zl_spatial-py"
  },
  "language_info": {
   "codemirror_mode": {
    "name": "ipython",
    "version": 3
   },
   "file_extension": ".py",
   "mimetype": "text/x-python",
   "name": "python",
   "nbconvert_exporter": "python",
   "pygments_lexer": "ipython3",
   "version": "3.10.12"
  }
 },
 "nbformat": 4,
 "nbformat_minor": 5
}
