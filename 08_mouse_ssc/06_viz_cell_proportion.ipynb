{
 "cells": [
  {
   "cell_type": "code",
   "execution_count": 22,
   "id": "5f1dd884-bafa-4623-b082-3039092d25b8",
   "metadata": {},
   "outputs": [],
   "source": [
    "library(ggplot2)\n",
    "library(dplyr)\n",
    "library(tidyr)\n",
    "library(cowplot)"
   ]
  },
  {
   "cell_type": "code",
   "execution_count": 4,
   "id": "934b7895-5e33-4028-bb98-39bef408b9fa",
   "metadata": {},
   "outputs": [],
   "source": [
    "df = read.csv('../../results/08_mouse_ssc/04_fib_subclustering/cell_propotion.csv', row.names = 1)"
   ]
  },
  {
   "cell_type": "code",
   "execution_count": 5,
   "id": "3fcc844d-fd26-4c16-aba2-7d39bce4d240",
   "metadata": {},
   "outputs": [
    {
     "data": {
      "text/html": [
       "<table class=\"dataframe\">\n",
       "<caption>A data.frame: 6 × 4</caption>\n",
       "<thead>\n",
       "\t<tr><th></th><th scope=col>sample</th><th scope=col>leiden</th><th scope=col>proportion</th><th scope=col>time_point</th></tr>\n",
       "\t<tr><th></th><th scope=col>&lt;chr&gt;</th><th scope=col>&lt;int&gt;</th><th scope=col>&lt;dbl&gt;</th><th scope=col>&lt;chr&gt;</th></tr>\n",
       "</thead>\n",
       "<tbody>\n",
       "\t<tr><th scope=row>0</th><td>day0_sample1 </td><td>0</td><td>0.33710542</td><td>day0 </td></tr>\n",
       "\t<tr><th scope=row>1</th><td>day3_sample1 </td><td>0</td><td>0.43346008</td><td>day3 </td></tr>\n",
       "\t<tr><th scope=row>2</th><td>day3_sample2 </td><td>0</td><td>0.06304348</td><td>day3 </td></tr>\n",
       "\t<tr><th scope=row>3</th><td>day7_sample1 </td><td>0</td><td>0.01646413</td><td>day7 </td></tr>\n",
       "\t<tr><th scope=row>4</th><td>day7_sample2 </td><td>0</td><td>0.39433618</td><td>day7 </td></tr>\n",
       "\t<tr><th scope=row>5</th><td>day14_sample1</td><td>0</td><td>0.15646941</td><td>day14</td></tr>\n",
       "</tbody>\n",
       "</table>\n"
      ],
      "text/latex": [
       "A data.frame: 6 × 4\n",
       "\\begin{tabular}{r|llll}\n",
       "  & sample & leiden & proportion & time\\_point\\\\\n",
       "  & <chr> & <int> & <dbl> & <chr>\\\\\n",
       "\\hline\n",
       "\t0 & day0\\_sample1  & 0 & 0.33710542 & day0 \\\\\n",
       "\t1 & day3\\_sample1  & 0 & 0.43346008 & day3 \\\\\n",
       "\t2 & day3\\_sample2  & 0 & 0.06304348 & day3 \\\\\n",
       "\t3 & day7\\_sample1  & 0 & 0.01646413 & day7 \\\\\n",
       "\t4 & day7\\_sample2  & 0 & 0.39433618 & day7 \\\\\n",
       "\t5 & day14\\_sample1 & 0 & 0.15646941 & day14\\\\\n",
       "\\end{tabular}\n"
      ],
      "text/markdown": [
       "\n",
       "A data.frame: 6 × 4\n",
       "\n",
       "| <!--/--> | sample &lt;chr&gt; | leiden &lt;int&gt; | proportion &lt;dbl&gt; | time_point &lt;chr&gt; |\n",
       "|---|---|---|---|---|\n",
       "| 0 | day0_sample1  | 0 | 0.33710542 | day0  |\n",
       "| 1 | day3_sample1  | 0 | 0.43346008 | day3  |\n",
       "| 2 | day3_sample2  | 0 | 0.06304348 | day3  |\n",
       "| 3 | day7_sample1  | 0 | 0.01646413 | day7  |\n",
       "| 4 | day7_sample2  | 0 | 0.39433618 | day7  |\n",
       "| 5 | day14_sample1 | 0 | 0.15646941 | day14 |\n",
       "\n"
      ],
      "text/plain": [
       "  sample        leiden proportion time_point\n",
       "0 day0_sample1  0      0.33710542 day0      \n",
       "1 day3_sample1  0      0.43346008 day3      \n",
       "2 day3_sample2  0      0.06304348 day3      \n",
       "3 day7_sample1  0      0.01646413 day7      \n",
       "4 day7_sample2  0      0.39433618 day7      \n",
       "5 day14_sample1 0      0.15646941 day14     "
      ]
     },
     "metadata": {},
     "output_type": "display_data"
    }
   ],
   "source": [
    "head(df)"
   ]
  },
  {
   "cell_type": "code",
   "execution_count": 9,
   "id": "a302aa49-7c0f-4c11-b39b-c9b3a55991af",
   "metadata": {},
   "outputs": [
    {
     "name": "stderr",
     "output_type": "stream",
     "text": [
      "\u001b[1m\u001b[22m`summarise()` has grouped output by 'leiden'. You can override using the\n",
      "`.groups` argument.\n"
     ]
    }
   ],
   "source": [
    "df <- df %>%\n",
    "    dplyr::group_by(leiden, time_point) %>%\n",
    "    dplyr::summarise(mean_prop = mean(proportion))"
   ]
  },
  {
   "cell_type": "code",
   "execution_count": 11,
   "id": "5692e645-9eee-4b67-b539-9fb97fdda787",
   "metadata": {},
   "outputs": [
    {
     "data": {
      "text/html": [
       "<table class=\"dataframe\">\n",
       "<caption>A grouped_df: 6 × 3</caption>\n",
       "<thead>\n",
       "\t<tr><th scope=col>leiden</th><th scope=col>time_point</th><th scope=col>mean_prop</th></tr>\n",
       "\t<tr><th scope=col>&lt;int&gt;</th><th scope=col>&lt;chr&gt;</th><th scope=col>&lt;dbl&gt;</th></tr>\n",
       "</thead>\n",
       "<tbody>\n",
       "\t<tr><td>0</td><td>day0 </td><td>0.33710542</td></tr>\n",
       "\t<tr><td>0</td><td>day14</td><td>0.17916235</td></tr>\n",
       "\t<tr><td>0</td><td>day28</td><td>0.17005938</td></tr>\n",
       "\t<tr><td>0</td><td>day3 </td><td>0.24825178</td></tr>\n",
       "\t<tr><td>0</td><td>day7 </td><td>0.20540015</td></tr>\n",
       "\t<tr><td>1</td><td>day0 </td><td>0.01310304</td></tr>\n",
       "</tbody>\n",
       "</table>\n"
      ],
      "text/latex": [
       "A grouped\\_df: 6 × 3\n",
       "\\begin{tabular}{lll}\n",
       " leiden & time\\_point & mean\\_prop\\\\\n",
       " <int> & <chr> & <dbl>\\\\\n",
       "\\hline\n",
       "\t 0 & day0  & 0.33710542\\\\\n",
       "\t 0 & day14 & 0.17916235\\\\\n",
       "\t 0 & day28 & 0.17005938\\\\\n",
       "\t 0 & day3  & 0.24825178\\\\\n",
       "\t 0 & day7  & 0.20540015\\\\\n",
       "\t 1 & day0  & 0.01310304\\\\\n",
       "\\end{tabular}\n"
      ],
      "text/markdown": [
       "\n",
       "A grouped_df: 6 × 3\n",
       "\n",
       "| leiden &lt;int&gt; | time_point &lt;chr&gt; | mean_prop &lt;dbl&gt; |\n",
       "|---|---|---|\n",
       "| 0 | day0  | 0.33710542 |\n",
       "| 0 | day14 | 0.17916235 |\n",
       "| 0 | day28 | 0.17005938 |\n",
       "| 0 | day3  | 0.24825178 |\n",
       "| 0 | day7  | 0.20540015 |\n",
       "| 1 | day0  | 0.01310304 |\n",
       "\n"
      ],
      "text/plain": [
       "  leiden time_point mean_prop \n",
       "1 0      day0       0.33710542\n",
       "2 0      day14      0.17916235\n",
       "3 0      day28      0.17005938\n",
       "4 0      day3       0.24825178\n",
       "5 0      day7       0.20540015\n",
       "6 1      day0       0.01310304"
      ]
     },
     "metadata": {},
     "output_type": "display_data"
    }
   ],
   "source": [
    "head(df)"
   ]
  },
  {
   "cell_type": "code",
   "execution_count": 15,
   "id": "cf69d99f-a099-4887-8733-c7dc1e77731c",
   "metadata": {},
   "outputs": [],
   "source": [
    "df$time_point <- stringr::str_replace_all(df$time_point, c(\"day\" = \"\"))\n",
    "df$time_point <- as.integer(df$time_point)"
   ]
  },
  {
   "cell_type": "code",
   "execution_count": 18,
   "id": "da2f4b20-e488-47bf-a801-93723732b81e",
   "metadata": {},
   "outputs": [],
   "source": [
    "df$leiden <- as.factor(df$leiden)"
   ]
  },
  {
   "cell_type": "code",
   "execution_count": 19,
   "id": "29a1ab09-c573-4b8f-b093-f3a5fb59669e",
   "metadata": {},
   "outputs": [
    {
     "data": {
      "text/html": [
       "<table class=\"dataframe\">\n",
       "<caption>A grouped_df: 6 × 3</caption>\n",
       "<thead>\n",
       "\t<tr><th scope=col>leiden</th><th scope=col>time_point</th><th scope=col>mean_prop</th></tr>\n",
       "\t<tr><th scope=col>&lt;fct&gt;</th><th scope=col>&lt;int&gt;</th><th scope=col>&lt;dbl&gt;</th></tr>\n",
       "</thead>\n",
       "<tbody>\n",
       "\t<tr><td>0</td><td> 0</td><td>0.33710542</td></tr>\n",
       "\t<tr><td>0</td><td>14</td><td>0.17916235</td></tr>\n",
       "\t<tr><td>0</td><td>28</td><td>0.17005938</td></tr>\n",
       "\t<tr><td>0</td><td> 3</td><td>0.24825178</td></tr>\n",
       "\t<tr><td>0</td><td> 7</td><td>0.20540015</td></tr>\n",
       "\t<tr><td>1</td><td> 0</td><td>0.01310304</td></tr>\n",
       "</tbody>\n",
       "</table>\n"
      ],
      "text/latex": [
       "A grouped\\_df: 6 × 3\n",
       "\\begin{tabular}{lll}\n",
       " leiden & time\\_point & mean\\_prop\\\\\n",
       " <fct> & <int> & <dbl>\\\\\n",
       "\\hline\n",
       "\t 0 &  0 & 0.33710542\\\\\n",
       "\t 0 & 14 & 0.17916235\\\\\n",
       "\t 0 & 28 & 0.17005938\\\\\n",
       "\t 0 &  3 & 0.24825178\\\\\n",
       "\t 0 &  7 & 0.20540015\\\\\n",
       "\t 1 &  0 & 0.01310304\\\\\n",
       "\\end{tabular}\n"
      ],
      "text/markdown": [
       "\n",
       "A grouped_df: 6 × 3\n",
       "\n",
       "| leiden &lt;fct&gt; | time_point &lt;int&gt; | mean_prop &lt;dbl&gt; |\n",
       "|---|---|---|\n",
       "| 0 |  0 | 0.33710542 |\n",
       "| 0 | 14 | 0.17916235 |\n",
       "| 0 | 28 | 0.17005938 |\n",
       "| 0 |  3 | 0.24825178 |\n",
       "| 0 |  7 | 0.20540015 |\n",
       "| 1 |  0 | 0.01310304 |\n",
       "\n"
      ],
      "text/plain": [
       "  leiden time_point mean_prop \n",
       "1 0       0         0.33710542\n",
       "2 0      14         0.17916235\n",
       "3 0      28         0.17005938\n",
       "4 0       3         0.24825178\n",
       "5 0       7         0.20540015\n",
       "6 1       0         0.01310304"
      ]
     },
     "metadata": {},
     "output_type": "display_data"
    }
   ],
   "source": [
    "head(df)"
   ]
  },
  {
   "cell_type": "code",
   "execution_count": 24,
   "id": "b6b3993d-47ea-4dc6-9bc0-9e59e0a0733b",
   "metadata": {},
   "outputs": [],
   "source": [
    "df <- subset(df, leiden %in% c(0, 5, 4, 6))"
   ]
  },
  {
   "cell_type": "code",
   "execution_count": 33,
   "id": "eeb87f75-cb1e-40a8-91ed-1a918ac9ac26",
   "metadata": {},
   "outputs": [
    {
     "data": {
      "image/png": "[encoded data removed]",
      "text/plain": [
       "plot without title"
      ]
     },
     "metadata": {
      "image/png": {
       "height": 240,
       "width": 300
      }
     },
     "output_type": "display_data"
    }
   ],
   "source": [
    "options(repr.plot.height = 4, repr.plot.width = 5)\n",
    "\n",
    "p <- ggplot(data = df, aes(x = time_point, y = mean_prop)) +\n",
    "    geom_line(aes(color = leiden)) +\n",
    "    scale_x_continuous(breaks = c(0, 3, 7, 14, 28), \n",
    "                       labels = c(\"Day 0\", \"Day 3\", \"Day 7\", \"Day 14\", \"Day 28\")) +\n",
    "    xlab(\"\") + ylab(\"Cell proportion\") +\n",
    "    theme_cowplot() +\n",
    "    theme(legend.title = element_blank(),\n",
    "         axis.text.x = element_text(hjust = 1, angle = 60))\n",
    "\n",
    "print(p)"
   ]
  },
  {
   "cell_type": "code",
   "execution_count": null,
   "id": "3e354059-ad28-4e5f-940f-818f2daa36ee",
   "metadata": {},
   "outputs": [],
   "source": []
  }
 ],
 "metadata": {
  "kernelspec": {
   "display_name": "R [conda env:zl_ssc]",
   "language": "R",
   "name": "conda-env-zl_ssc-r"
  },
  "language_info": {
   "codemirror_mode": "r",
   "file_extension": ".r",
   "mimetype": "text/x-r-source",
   "name": "R",
   "pygments_lexer": "r",
   "version": "4.3.3"
  }
 },
 "nbformat": 4,
 "nbformat_minor": 5
}
