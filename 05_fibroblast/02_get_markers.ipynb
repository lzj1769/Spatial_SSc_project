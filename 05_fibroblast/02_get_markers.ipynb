{
 "cells": [
  {
   "cell_type": "code",
   "execution_count": 1,
   "id": "eb38ff58-6e5c-42af-9119-d8a9703df497",
   "metadata": {},
   "outputs": [],
   "source": [
    "import os\n",
    "import warnings\n",
    "warnings.filterwarnings('ignore')\n",
    "\n",
    "import scanpy as sc\n",
    "import anndata as ad\n",
    "import pandas as pd\n",
    "import seaborn as sns\n",
    "from statannotations.Annotator import Annotator"
   ]
  },
  {
   "cell_type": "code",
   "execution_count": 2,
   "id": "09ed57d0-50b6-4173-94a9-00d4b3bcb33e",
   "metadata": {},
   "outputs": [],
   "source": [
    "adata = sc.read_h5ad('../../results/05_fibroblast/01_clustering/fibroblast.h5ad')"
   ]
  },
  {
   "cell_type": "code",
   "execution_count": 3,
   "id": "77db9af9-838e-499d-bcd2-701bc7c662ba",
   "metadata": {},
   "outputs": [],
   "source": [
    "df = pd.DataFrame(adata.uns['rank_genes_groups']['names'])"
   ]
  },
  {
   "cell_type": "code",
   "execution_count": 5,
   "id": "1a51065f-c717-42a7-9704-ebfd5343548f",
   "metadata": {},
   "outputs": [],
   "source": [
    "# Extract marker genes, log fold changes, and p-values\n",
    "results = []\n",
    "for cluster in adata.uns['rank_genes_groups']['names'].dtype.names:\n",
    "    cluster_marker_genes = adata.uns['rank_genes_groups']['names'][cluster]\n",
    "    logfoldchanges = adata.uns['rank_genes_groups']['logfoldchanges'][cluster]\n",
    "    pvals = adata.uns['rank_genes_groups']['pvals'][cluster]\n",
    "    pvals_adj = adata.uns['rank_genes_groups']['pvals_adj'][cluster]\n",
    "    \n",
    "    for gene, logfc, pval, pval_adj in zip(cluster_marker_genes, logfoldchanges, pvals, pvals_adj):\n",
    "        results.append({\n",
    "            'gene': gene,\n",
    "            'log fold change': logfc,\n",
    "            'p-value': pval,\n",
    "            'adjusted p-value': pval_adj,\n",
    "            'cluster': cluster\n",
    "        })"
   ]
  },
  {
   "cell_type": "code",
   "execution_count": 6,
   "id": "7f36b447-ee7a-4cbd-9722-5fb31f350473",
   "metadata": {},
   "outputs": [],
   "source": [
    "# Convert to DataFrame\n",
    "markers_df = pd.DataFrame(results)"
   ]
  },
  {
   "cell_type": "code",
   "execution_count": 8,
   "id": "a17037fe-45a0-4349-a917-3625f0b22e88",
   "metadata": {},
   "outputs": [],
   "source": [
    "markers_df = markers_df[markers_df['adjusted p-value'] < 0.01]"
   ]
  },
  {
   "cell_type": "code",
   "execution_count": 10,
   "id": "5db19a27-6d91-4ec6-9c19-5491c57d8423",
   "metadata": {},
   "outputs": [],
   "source": [
    "# Save to CSV\n",
    "markers_df.to_csv('all_genes.csv', index=False)"
   ]
  },
  {
   "cell_type": "code",
   "execution_count": null,
   "id": "507091f2-adb7-4371-969b-e4cf225b1939",
   "metadata": {},
   "outputs": [],
   "source": []
  }
 ],
 "metadata": {
  "kernelspec": {
   "display_name": "Python [conda env:zl_ssc]",
   "language": "python",
   "name": "conda-env-zl_ssc-py"
  },
  "language_info": {
   "codemirror_mode": {
    "name": "ipython",
    "version": 3
   },
   "file_extension": ".py",
   "mimetype": "text/x-python",
   "name": "python",
   "nbconvert_exporter": "python",
   "pygments_lexer": "ipython3",
   "version": "3.10.14"
  }
 },
 "nbformat": 4,
 "nbformat_minor": 5
}
