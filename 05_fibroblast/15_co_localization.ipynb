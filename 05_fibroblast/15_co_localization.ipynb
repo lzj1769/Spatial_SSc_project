{
 "cells": [
  {
   "cell_type": "code",
   "execution_count": 1,
   "id": "a277542e-bbaa-4b2c-8145-50d1a7b98339",
   "metadata": {},
   "outputs": [],
   "source": [
    "suppressMessages(library(Seurat))\n",
    "suppressMessages(library(ggplot2))\n",
    "suppressMessages(library(patchwork))\n",
    "suppressMessages(library(dplyr))\n",
    "suppressMessages(library(viridis))\n",
    "suppressMessages(library(cowplot))\n",
    "suppressMessages(library(anndataR))\n",
    "suppressMessages(library(ComplexHeatmap))\n",
    "library(abind)"
   ]
  },
  {
   "cell_type": "code",
   "execution_count": 2,
   "id": "ef5b3071-9bce-418a-ab37-3efc1bed2913",
   "metadata": {},
   "outputs": [],
   "source": [
    "in_dir <- \"../../results/05_fibroblast/06_cell_state_score\"\n",
    "out_dir <- \"../../results/05_fibroblast/15_co_localization\"\n",
    "\n",
    "if(!dir.exists(out_dir)){\n",
    "    dir.create(out_dir, recursive = TRUE)\n",
    "}"
   ]
  },
  {
   "cell_type": "code",
   "execution_count": 3,
   "id": "306bb00b-c649-4bb2-b0b7-3bdf4d907c9f",
   "metadata": {},
   "outputs": [],
   "source": [
    "sample_list <- c('HC01', 'HC02', 'HC03', 'HC05',\n",
    "                 'SSc4994', \n",
    "                 'SSc5380', \n",
    "               'SSc-HL01', 'SSc-HL05', 'SSc-HL06', 'SSc-HL11',\n",
    "               'SSc-HL13', 'SSc-HL25', 'SSc-HL33', 'SSc-HL35')"
   ]
  },
  {
   "cell_type": "code",
   "execution_count": 4,
   "id": "789897c0-d3ed-4357-a1eb-c9964db27342",
   "metadata": {},
   "outputs": [],
   "source": [
    "for(sample in sample_list){\n",
    "    obj <- readRDS(glue::glue(\"{in_dir}/{sample}.rds\"))\n",
    "    \n",
    "    df1 <- obj@meta.data %>%\n",
    "            subset(select = c('Fib1', 'Fib10', 'Fib2', 'Fib3', 'Fib4', 'Fib5', 'Fib6', 'Fib7', 'Fib8', 'Fib9'))\n",
    "\n",
    "    df2 <- obj@meta.data %>%\n",
    "            subset(select = c('Fib1', 'Fib10', 'Fib2', 'Fib3', 'Fib4', 'Fib5', 'Fib6', 'Fib7', 'Fib8', 'Fib9'))\n",
    "    \n",
    "    df_cor <- as.data.frame(cor(df2, df1, method=\"spearman\"))\n",
    "    \n",
    "    write.csv(df_cor, glue::glue(\"{out_dir}/{sample}.csv\"))\n",
    "}"
   ]
  },
  {
   "cell_type": "code",
   "execution_count": 5,
   "id": "b2f1e619-3fee-4dd9-92f6-9be76c08b5e7",
   "metadata": {},
   "outputs": [],
   "source": [
    "df_cor_list <- lapply(sample_list, function(sample){\n",
    "    df_cor = read.csv(glue::glue(\"{out_dir}/{sample}.csv\"), row.names = 1)\n",
    "    return(df_cor)\n",
    "})"
   ]
  },
  {
   "cell_type": "code",
   "execution_count": 6,
   "id": "9c281499-c303-4539-b074-d048f8896a30",
   "metadata": {},
   "outputs": [
    {
     "data": {
      "text/html": [
       "<table class=\"dataframe\">\n",
       "<caption>A data.frame: 10 × 10</caption>\n",
       "<thead>\n",
       "\t<tr><th></th><th scope=col>Fib1</th><th scope=col>Fib10</th><th scope=col>Fib2</th><th scope=col>Fib3</th><th scope=col>Fib4</th><th scope=col>Fib5</th><th scope=col>Fib6</th><th scope=col>Fib7</th><th scope=col>Fib8</th><th scope=col>Fib9</th></tr>\n",
       "\t<tr><th></th><th scope=col>&lt;dbl&gt;</th><th scope=col>&lt;dbl&gt;</th><th scope=col>&lt;dbl&gt;</th><th scope=col>&lt;dbl&gt;</th><th scope=col>&lt;dbl&gt;</th><th scope=col>&lt;dbl&gt;</th><th scope=col>&lt;dbl&gt;</th><th scope=col>&lt;dbl&gt;</th><th scope=col>&lt;dbl&gt;</th><th scope=col>&lt;dbl&gt;</th></tr>\n",
       "</thead>\n",
       "<tbody>\n",
       "\t<tr><th scope=row>Fib1</th><td> 1.000000000</td><td>-0.002790743</td><td> 0.410212970</td><td> 0.71960566</td><td> 0.53378843</td><td>-0.02615443</td><td>0.3590894</td><td>0.252764465</td><td>0.88456454</td><td>-0.001297105</td></tr>\n",
       "\t<tr><th scope=row>Fib10</th><td>-0.002790743</td><td> 1.000000000</td><td> 0.439293644</td><td> 0.28982351</td><td> 0.46976360</td><td> 0.40139978</td><td>0.2063732</td><td>0.330832865</td><td>0.05271727</td><td> 0.011263405</td></tr>\n",
       "\t<tr><th scope=row>Fib2</th><td> 0.410212970</td><td> 0.439293644</td><td> 1.000000000</td><td> 0.52931211</td><td> 0.58616627</td><td> 0.13499398</td><td>0.3195643</td><td>0.432366381</td><td>0.47738108</td><td>-0.001403142</td></tr>\n",
       "\t<tr><th scope=row>Fib3</th><td> 0.719605657</td><td> 0.289823507</td><td> 0.529312106</td><td> 1.00000000</td><td> 0.83017995</td><td> 0.04614024</td><td>0.2548935</td><td>0.330676628</td><td>0.74001190</td><td>-0.146035641</td></tr>\n",
       "\t<tr><th scope=row>Fib4</th><td> 0.533788428</td><td> 0.469763597</td><td> 0.586166268</td><td> 0.83017995</td><td> 1.00000000</td><td> 0.23119426</td><td>0.3566845</td><td>0.386467471</td><td>0.62857131</td><td>-0.032705565</td></tr>\n",
       "\t<tr><th scope=row>Fib5</th><td>-0.026154434</td><td> 0.401399784</td><td> 0.134993983</td><td> 0.04614024</td><td> 0.23119426</td><td> 1.00000000</td><td>0.4567149</td><td>0.105159130</td><td>0.11450691</td><td> 0.441411092</td></tr>\n",
       "\t<tr><th scope=row>Fib6</th><td> 0.359089358</td><td> 0.206373238</td><td> 0.319564286</td><td> 0.25489350</td><td> 0.35668447</td><td> 0.45671489</td><td>1.0000000</td><td>0.206178466</td><td>0.51288085</td><td> 0.469154335</td></tr>\n",
       "\t<tr><th scope=row>Fib7</th><td> 0.252764465</td><td> 0.330832865</td><td> 0.432366381</td><td> 0.33067663</td><td> 0.38646747</td><td> 0.10515913</td><td>0.2061785</td><td>1.000000000</td><td>0.27867423</td><td> 0.004086627</td></tr>\n",
       "\t<tr><th scope=row>Fib8</th><td> 0.884564544</td><td> 0.052717270</td><td> 0.477381079</td><td> 0.74001190</td><td> 0.62857131</td><td> 0.11450691</td><td>0.5128809</td><td>0.278674228</td><td>1.00000000</td><td> 0.119350747</td></tr>\n",
       "\t<tr><th scope=row>Fib9</th><td>-0.001297105</td><td> 0.011263405</td><td>-0.001403142</td><td>-0.14603564</td><td>-0.03270556</td><td> 0.44141109</td><td>0.4691543</td><td>0.004086627</td><td>0.11935075</td><td> 1.000000000</td></tr>\n",
       "</tbody>\n",
       "</table>\n"
      ],
      "text/latex": [
       "A data.frame: 10 × 10\n",
       "\\begin{tabular}{r|llllllllll}\n",
       "  & Fib1 & Fib10 & Fib2 & Fib3 & Fib4 & Fib5 & Fib6 & Fib7 & Fib8 & Fib9\\\\\n",
       "  & <dbl> & <dbl> & <dbl> & <dbl> & <dbl> & <dbl> & <dbl> & <dbl> & <dbl> & <dbl>\\\\\n",
       "\\hline\n",
       "\tFib1 &  1.000000000 & -0.002790743 &  0.410212970 &  0.71960566 &  0.53378843 & -0.02615443 & 0.3590894 & 0.252764465 & 0.88456454 & -0.001297105\\\\\n",
       "\tFib10 & -0.002790743 &  1.000000000 &  0.439293644 &  0.28982351 &  0.46976360 &  0.40139978 & 0.2063732 & 0.330832865 & 0.05271727 &  0.011263405\\\\\n",
       "\tFib2 &  0.410212970 &  0.439293644 &  1.000000000 &  0.52931211 &  0.58616627 &  0.13499398 & 0.3195643 & 0.432366381 & 0.47738108 & -0.001403142\\\\\n",
       "\tFib3 &  0.719605657 &  0.289823507 &  0.529312106 &  1.00000000 &  0.83017995 &  0.04614024 & 0.2548935 & 0.330676628 & 0.74001190 & -0.146035641\\\\\n",
       "\tFib4 &  0.533788428 &  0.469763597 &  0.586166268 &  0.83017995 &  1.00000000 &  0.23119426 & 0.3566845 & 0.386467471 & 0.62857131 & -0.032705565\\\\\n",
       "\tFib5 & -0.026154434 &  0.401399784 &  0.134993983 &  0.04614024 &  0.23119426 &  1.00000000 & 0.4567149 & 0.105159130 & 0.11450691 &  0.441411092\\\\\n",
       "\tFib6 &  0.359089358 &  0.206373238 &  0.319564286 &  0.25489350 &  0.35668447 &  0.45671489 & 1.0000000 & 0.206178466 & 0.51288085 &  0.469154335\\\\\n",
       "\tFib7 &  0.252764465 &  0.330832865 &  0.432366381 &  0.33067663 &  0.38646747 &  0.10515913 & 0.2061785 & 1.000000000 & 0.27867423 &  0.004086627\\\\\n",
       "\tFib8 &  0.884564544 &  0.052717270 &  0.477381079 &  0.74001190 &  0.62857131 &  0.11450691 & 0.5128809 & 0.278674228 & 1.00000000 &  0.119350747\\\\\n",
       "\tFib9 & -0.001297105 &  0.011263405 & -0.001403142 & -0.14603564 & -0.03270556 &  0.44141109 & 0.4691543 & 0.004086627 & 0.11935075 &  1.000000000\\\\\n",
       "\\end{tabular}\n"
      ],
      "text/markdown": [
       "\n",
       "A data.frame: 10 × 10\n",
       "\n",
       "| <!--/--> | Fib1 &lt;dbl&gt; | Fib10 &lt;dbl&gt; | Fib2 &lt;dbl&gt; | Fib3 &lt;dbl&gt; | Fib4 &lt;dbl&gt; | Fib5 &lt;dbl&gt; | Fib6 &lt;dbl&gt; | Fib7 &lt;dbl&gt; | Fib8 &lt;dbl&gt; | Fib9 &lt;dbl&gt; |\n",
       "|---|---|---|---|---|---|---|---|---|---|---|\n",
       "| Fib1 |  1.000000000 | -0.002790743 |  0.410212970 |  0.71960566 |  0.53378843 | -0.02615443 | 0.3590894 | 0.252764465 | 0.88456454 | -0.001297105 |\n",
       "| Fib10 | -0.002790743 |  1.000000000 |  0.439293644 |  0.28982351 |  0.46976360 |  0.40139978 | 0.2063732 | 0.330832865 | 0.05271727 |  0.011263405 |\n",
       "| Fib2 |  0.410212970 |  0.439293644 |  1.000000000 |  0.52931211 |  0.58616627 |  0.13499398 | 0.3195643 | 0.432366381 | 0.47738108 | -0.001403142 |\n",
       "| Fib3 |  0.719605657 |  0.289823507 |  0.529312106 |  1.00000000 |  0.83017995 |  0.04614024 | 0.2548935 | 0.330676628 | 0.74001190 | -0.146035641 |\n",
       "| Fib4 |  0.533788428 |  0.469763597 |  0.586166268 |  0.83017995 |  1.00000000 |  0.23119426 | 0.3566845 | 0.386467471 | 0.62857131 | -0.032705565 |\n",
       "| Fib5 | -0.026154434 |  0.401399784 |  0.134993983 |  0.04614024 |  0.23119426 |  1.00000000 | 0.4567149 | 0.105159130 | 0.11450691 |  0.441411092 |\n",
       "| Fib6 |  0.359089358 |  0.206373238 |  0.319564286 |  0.25489350 |  0.35668447 |  0.45671489 | 1.0000000 | 0.206178466 | 0.51288085 |  0.469154335 |\n",
       "| Fib7 |  0.252764465 |  0.330832865 |  0.432366381 |  0.33067663 |  0.38646747 |  0.10515913 | 0.2061785 | 1.000000000 | 0.27867423 |  0.004086627 |\n",
       "| Fib8 |  0.884564544 |  0.052717270 |  0.477381079 |  0.74001190 |  0.62857131 |  0.11450691 | 0.5128809 | 0.278674228 | 1.00000000 |  0.119350747 |\n",
       "| Fib9 | -0.001297105 |  0.011263405 | -0.001403142 | -0.14603564 | -0.03270556 |  0.44141109 | 0.4691543 | 0.004086627 | 0.11935075 |  1.000000000 |\n",
       "\n"
      ],
      "text/plain": [
       "      Fib1         Fib10        Fib2         Fib3        Fib4       \n",
       "Fib1   1.000000000 -0.002790743  0.410212970  0.71960566  0.53378843\n",
       "Fib10 -0.002790743  1.000000000  0.439293644  0.28982351  0.46976360\n",
       "Fib2   0.410212970  0.439293644  1.000000000  0.52931211  0.58616627\n",
       "Fib3   0.719605657  0.289823507  0.529312106  1.00000000  0.83017995\n",
       "Fib4   0.533788428  0.469763597  0.586166268  0.83017995  1.00000000\n",
       "Fib5  -0.026154434  0.401399784  0.134993983  0.04614024  0.23119426\n",
       "Fib6   0.359089358  0.206373238  0.319564286  0.25489350  0.35668447\n",
       "Fib7   0.252764465  0.330832865  0.432366381  0.33067663  0.38646747\n",
       "Fib8   0.884564544  0.052717270  0.477381079  0.74001190  0.62857131\n",
       "Fib9  -0.001297105  0.011263405 -0.001403142 -0.14603564 -0.03270556\n",
       "      Fib5        Fib6      Fib7        Fib8       Fib9        \n",
       "Fib1  -0.02615443 0.3590894 0.252764465 0.88456454 -0.001297105\n",
       "Fib10  0.40139978 0.2063732 0.330832865 0.05271727  0.011263405\n",
       "Fib2   0.13499398 0.3195643 0.432366381 0.47738108 -0.001403142\n",
       "Fib3   0.04614024 0.2548935 0.330676628 0.74001190 -0.146035641\n",
       "Fib4   0.23119426 0.3566845 0.386467471 0.62857131 -0.032705565\n",
       "Fib5   1.00000000 0.4567149 0.105159130 0.11450691  0.441411092\n",
       "Fib6   0.45671489 1.0000000 0.206178466 0.51288085  0.469154335\n",
       "Fib7   0.10515913 0.2061785 1.000000000 0.27867423  0.004086627\n",
       "Fib8   0.11450691 0.5128809 0.278674228 1.00000000  0.119350747\n",
       "Fib9   0.44141109 0.4691543 0.004086627 0.11935075  1.000000000"
      ]
     },
     "metadata": {},
     "output_type": "display_data"
    }
   ],
   "source": [
    "df_cor_list[[1]]"
   ]
  },
  {
   "cell_type": "code",
   "execution_count": 7,
   "id": "1f402cab-ad5e-45c4-83c5-e8aae17f4c7d",
   "metadata": {},
   "outputs": [],
   "source": [
    "array_3d <- abind(lapply(df_cor_list, function(df) as.matrix(df)), along = 3)\n",
    "mean_matrix <- apply(array_3d, c(1, 2), mean)"
   ]
  },
  {
   "cell_type": "code",
   "execution_count": 8,
   "id": "57fd1792-06f9-4272-8c8d-e1c6b6703e79",
   "metadata": {},
   "outputs": [
    {
     "data": {
      "text/html": [
       "<table class=\"dataframe\">\n",
       "<caption>A matrix: 10 × 10 of type dbl</caption>\n",
       "<thead>\n",
       "\t<tr><th></th><th scope=col>Fib1</th><th scope=col>Fib10</th><th scope=col>Fib2</th><th scope=col>Fib3</th><th scope=col>Fib4</th><th scope=col>Fib5</th><th scope=col>Fib6</th><th scope=col>Fib7</th><th scope=col>Fib8</th><th scope=col>Fib9</th></tr>\n",
       "</thead>\n",
       "<tbody>\n",
       "\t<tr><th scope=row>Fib1</th><td> 1.00000000</td><td>0.099880315</td><td> 0.6010629</td><td>0.52652136</td><td>0.3688893</td><td>-0.13934161</td><td>0.4581909</td><td> 0.42570767</td><td> 0.84833116</td><td> 0.478899027</td></tr>\n",
       "\t<tr><th scope=row>Fib10</th><td> 0.09988031</td><td>1.000000000</td><td> 0.2905634</td><td>0.46870713</td><td>0.5445131</td><td> 0.41958592</td><td>0.1538937</td><td> 0.34509020</td><td> 0.11790364</td><td> 0.005884632</td></tr>\n",
       "\t<tr><th scope=row>Fib2</th><td> 0.60106289</td><td>0.290563389</td><td> 1.0000000</td><td>0.35498741</td><td>0.2904433</td><td>-0.16418218</td><td>0.4394647</td><td> 0.58456423</td><td> 0.60677130</td><td> 0.505301519</td></tr>\n",
       "\t<tr><th scope=row>Fib3</th><td> 0.52652136</td><td>0.468707133</td><td> 0.3549874</td><td>1.00000000</td><td>0.8545419</td><td> 0.27272164</td><td>0.1803192</td><td> 0.35179011</td><td> 0.52506706</td><td> 0.031540420</td></tr>\n",
       "\t<tr><th scope=row>Fib4</th><td> 0.36888932</td><td>0.544513132</td><td> 0.2904433</td><td>0.85454193</td><td>1.0000000</td><td> 0.43913746</td><td>0.2615054</td><td> 0.33118080</td><td> 0.44343050</td><td> 0.034259301</td></tr>\n",
       "\t<tr><th scope=row>Fib5</th><td>-0.13934161</td><td>0.419585921</td><td>-0.1641822</td><td>0.27272164</td><td>0.4391375</td><td> 1.00000000</td><td>0.1317565</td><td>-0.02623585</td><td>-0.03117145</td><td>-0.062021110</td></tr>\n",
       "\t<tr><th scope=row>Fib6</th><td> 0.45819094</td><td>0.153893750</td><td> 0.4394647</td><td>0.18031916</td><td>0.2615054</td><td> 0.13175654</td><td>1.0000000</td><td> 0.35330654</td><td> 0.62546458</td><td> 0.591938370</td></tr>\n",
       "\t<tr><th scope=row>Fib7</th><td> 0.42570767</td><td>0.345090200</td><td> 0.5845642</td><td>0.35179011</td><td>0.3311808</td><td>-0.02623585</td><td>0.3533065</td><td> 1.00000000</td><td> 0.44237775</td><td> 0.299262346</td></tr>\n",
       "\t<tr><th scope=row>Fib8</th><td> 0.84833116</td><td>0.117903640</td><td> 0.6067713</td><td>0.52506706</td><td>0.4434305</td><td>-0.03117145</td><td>0.6254646</td><td> 0.44237775</td><td> 1.00000000</td><td> 0.558654265</td></tr>\n",
       "\t<tr><th scope=row>Fib9</th><td> 0.47889903</td><td>0.005884632</td><td> 0.5053015</td><td>0.03154042</td><td>0.0342593</td><td>-0.06202111</td><td>0.5919384</td><td> 0.29926235</td><td> 0.55865427</td><td> 1.000000000</td></tr>\n",
       "</tbody>\n",
       "</table>\n"
      ],
      "text/latex": [
       "A matrix: 10 × 10 of type dbl\n",
       "\\begin{tabular}{r|llllllllll}\n",
       "  & Fib1 & Fib10 & Fib2 & Fib3 & Fib4 & Fib5 & Fib6 & Fib7 & Fib8 & Fib9\\\\\n",
       "\\hline\n",
       "\tFib1 &  1.00000000 & 0.099880315 &  0.6010629 & 0.52652136 & 0.3688893 & -0.13934161 & 0.4581909 &  0.42570767 &  0.84833116 &  0.478899027\\\\\n",
       "\tFib10 &  0.09988031 & 1.000000000 &  0.2905634 & 0.46870713 & 0.5445131 &  0.41958592 & 0.1538937 &  0.34509020 &  0.11790364 &  0.005884632\\\\\n",
       "\tFib2 &  0.60106289 & 0.290563389 &  1.0000000 & 0.35498741 & 0.2904433 & -0.16418218 & 0.4394647 &  0.58456423 &  0.60677130 &  0.505301519\\\\\n",
       "\tFib3 &  0.52652136 & 0.468707133 &  0.3549874 & 1.00000000 & 0.8545419 &  0.27272164 & 0.1803192 &  0.35179011 &  0.52506706 &  0.031540420\\\\\n",
       "\tFib4 &  0.36888932 & 0.544513132 &  0.2904433 & 0.85454193 & 1.0000000 &  0.43913746 & 0.2615054 &  0.33118080 &  0.44343050 &  0.034259301\\\\\n",
       "\tFib5 & -0.13934161 & 0.419585921 & -0.1641822 & 0.27272164 & 0.4391375 &  1.00000000 & 0.1317565 & -0.02623585 & -0.03117145 & -0.062021110\\\\\n",
       "\tFib6 &  0.45819094 & 0.153893750 &  0.4394647 & 0.18031916 & 0.2615054 &  0.13175654 & 1.0000000 &  0.35330654 &  0.62546458 &  0.591938370\\\\\n",
       "\tFib7 &  0.42570767 & 0.345090200 &  0.5845642 & 0.35179011 & 0.3311808 & -0.02623585 & 0.3533065 &  1.00000000 &  0.44237775 &  0.299262346\\\\\n",
       "\tFib8 &  0.84833116 & 0.117903640 &  0.6067713 & 0.52506706 & 0.4434305 & -0.03117145 & 0.6254646 &  0.44237775 &  1.00000000 &  0.558654265\\\\\n",
       "\tFib9 &  0.47889903 & 0.005884632 &  0.5053015 & 0.03154042 & 0.0342593 & -0.06202111 & 0.5919384 &  0.29926235 &  0.55865427 &  1.000000000\\\\\n",
       "\\end{tabular}\n"
      ],
      "text/markdown": [
       "\n",
       "A matrix: 10 × 10 of type dbl\n",
       "\n",
       "| <!--/--> | Fib1 | Fib10 | Fib2 | Fib3 | Fib4 | Fib5 | Fib6 | Fib7 | Fib8 | Fib9 |\n",
       "|---|---|---|---|---|---|---|---|---|---|---|\n",
       "| Fib1 |  1.00000000 | 0.099880315 |  0.6010629 | 0.52652136 | 0.3688893 | -0.13934161 | 0.4581909 |  0.42570767 |  0.84833116 |  0.478899027 |\n",
       "| Fib10 |  0.09988031 | 1.000000000 |  0.2905634 | 0.46870713 | 0.5445131 |  0.41958592 | 0.1538937 |  0.34509020 |  0.11790364 |  0.005884632 |\n",
       "| Fib2 |  0.60106289 | 0.290563389 |  1.0000000 | 0.35498741 | 0.2904433 | -0.16418218 | 0.4394647 |  0.58456423 |  0.60677130 |  0.505301519 |\n",
       "| Fib3 |  0.52652136 | 0.468707133 |  0.3549874 | 1.00000000 | 0.8545419 |  0.27272164 | 0.1803192 |  0.35179011 |  0.52506706 |  0.031540420 |\n",
       "| Fib4 |  0.36888932 | 0.544513132 |  0.2904433 | 0.85454193 | 1.0000000 |  0.43913746 | 0.2615054 |  0.33118080 |  0.44343050 |  0.034259301 |\n",
       "| Fib5 | -0.13934161 | 0.419585921 | -0.1641822 | 0.27272164 | 0.4391375 |  1.00000000 | 0.1317565 | -0.02623585 | -0.03117145 | -0.062021110 |\n",
       "| Fib6 |  0.45819094 | 0.153893750 |  0.4394647 | 0.18031916 | 0.2615054 |  0.13175654 | 1.0000000 |  0.35330654 |  0.62546458 |  0.591938370 |\n",
       "| Fib7 |  0.42570767 | 0.345090200 |  0.5845642 | 0.35179011 | 0.3311808 | -0.02623585 | 0.3533065 |  1.00000000 |  0.44237775 |  0.299262346 |\n",
       "| Fib8 |  0.84833116 | 0.117903640 |  0.6067713 | 0.52506706 | 0.4434305 | -0.03117145 | 0.6254646 |  0.44237775 |  1.00000000 |  0.558654265 |\n",
       "| Fib9 |  0.47889903 | 0.005884632 |  0.5053015 | 0.03154042 | 0.0342593 | -0.06202111 | 0.5919384 |  0.29926235 |  0.55865427 |  1.000000000 |\n",
       "\n"
      ],
      "text/plain": [
       "      Fib1        Fib10       Fib2       Fib3       Fib4      Fib5       \n",
       "Fib1   1.00000000 0.099880315  0.6010629 0.52652136 0.3688893 -0.13934161\n",
       "Fib10  0.09988031 1.000000000  0.2905634 0.46870713 0.5445131  0.41958592\n",
       "Fib2   0.60106289 0.290563389  1.0000000 0.35498741 0.2904433 -0.16418218\n",
       "Fib3   0.52652136 0.468707133  0.3549874 1.00000000 0.8545419  0.27272164\n",
       "Fib4   0.36888932 0.544513132  0.2904433 0.85454193 1.0000000  0.43913746\n",
       "Fib5  -0.13934161 0.419585921 -0.1641822 0.27272164 0.4391375  1.00000000\n",
       "Fib6   0.45819094 0.153893750  0.4394647 0.18031916 0.2615054  0.13175654\n",
       "Fib7   0.42570767 0.345090200  0.5845642 0.35179011 0.3311808 -0.02623585\n",
       "Fib8   0.84833116 0.117903640  0.6067713 0.52506706 0.4434305 -0.03117145\n",
       "Fib9   0.47889903 0.005884632  0.5053015 0.03154042 0.0342593 -0.06202111\n",
       "      Fib6      Fib7        Fib8        Fib9        \n",
       "Fib1  0.4581909  0.42570767  0.84833116  0.478899027\n",
       "Fib10 0.1538937  0.34509020  0.11790364  0.005884632\n",
       "Fib2  0.4394647  0.58456423  0.60677130  0.505301519\n",
       "Fib3  0.1803192  0.35179011  0.52506706  0.031540420\n",
       "Fib4  0.2615054  0.33118080  0.44343050  0.034259301\n",
       "Fib5  0.1317565 -0.02623585 -0.03117145 -0.062021110\n",
       "Fib6  1.0000000  0.35330654  0.62546458  0.591938370\n",
       "Fib7  0.3533065  1.00000000  0.44237775  0.299262346\n",
       "Fib8  0.6254646  0.44237775  1.00000000  0.558654265\n",
       "Fib9  0.5919384  0.29926235  0.55865427  1.000000000"
      ]
     },
     "metadata": {},
     "output_type": "display_data"
    }
   ],
   "source": [
    "mean_matrix"
   ]
  },
  {
   "cell_type": "code",
   "execution_count": 9,
   "id": "b2ef20b4-7b1f-430d-a5fa-e18fef6ba750",
   "metadata": {},
   "outputs": [],
   "source": [
    "# Scaling each row\n",
    "# scaled_mat <- t(apply(mean_matrix, 1, scale))\n",
    "# colnames(scaled_mat) <- colnames(mean_matrix)"
   ]
  },
  {
   "cell_type": "code",
   "execution_count": 10,
   "id": "eba7a79b-fb40-484f-9f22-c9cab9204b52",
   "metadata": {},
   "outputs": [],
   "source": [
    "options(repr.plot.height = 5, repr.plot.width = 6)\n",
    "\n",
    "ht <- Heatmap(as.matrix(mean_matrix),\n",
    "              name = 'Correlation',\n",
    "              rect_gp = gpar(col = \"black\", lwd = 0.5),\n",
    "              cluster_columns = TRUE,\n",
    "              cluster_rows = TRUE,\n",
    "              clustering_method_rows = 'ward.D2',\n",
    "              clustering_method_columns = 'ward.D2'\n",
    "             )"
   ]
  },
  {
   "cell_type": "code",
   "execution_count": 11,
   "id": "68db19fc-834b-47cc-9230-d6ffe37e9db9",
   "metadata": {},
   "outputs": [
    {
     "data": {
      "image/png": "[encoded data removed]",
      "text/plain": [
       "plot without title"
      ]
     },
     "metadata": {
      "image/png": {
       "height": 300,
       "width": 360
      }
     },
     "output_type": "display_data"
    }
   ],
   "source": [
    "draw(ht)"
   ]
  },
  {
   "cell_type": "code",
   "execution_count": null,
   "id": "311f4a7e-ee27-4026-9d52-ca578a8f4d46",
   "metadata": {},
   "outputs": [],
   "source": []
  }
 ],
 "metadata": {
  "kernelspec": {
   "display_name": "R [conda env:zl_ssc]",
   "language": "R",
   "name": "conda-env-zl_ssc-r"
  },
  "language_info": {
   "codemirror_mode": "r",
   "file_extension": ".r",
   "mimetype": "text/x-r-source",
   "name": "R",
   "pygments_lexer": "r",
   "version": "4.3.3"
  }
 },
 "nbformat": 4,
 "nbformat_minor": 5
}
