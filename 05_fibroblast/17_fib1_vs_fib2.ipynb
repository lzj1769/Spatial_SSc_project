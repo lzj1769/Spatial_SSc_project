{
 "cells": [
  {
   "cell_type": "code",
   "execution_count": 1,
   "id": "d5ede6a5-beb6-4df1-84fa-87ffab1acf5f",
   "metadata": {},
   "outputs": [],
   "source": [
    "import os\n",
    "import warnings\n",
    "warnings.filterwarnings('ignore')\n",
    "\n",
    "import scanpy as sc\n",
    "import anndata as ad\n",
    "import pandas as pd\n",
    "import seaborn as sns\n",
    "import decoupler as dc"
   ]
  },
  {
   "cell_type": "code",
   "execution_count": 2,
   "id": "12a27643-89a2-483c-b771-b5d028981615",
   "metadata": {},
   "outputs": [],
   "source": [
    "out_dir = '../../results/05_fibroblast/17_fib1_vs_fib2'\n",
    "os.makedirs(out_dir, exist_ok=True)"
   ]
  },
  {
   "cell_type": "code",
   "execution_count": 3,
   "id": "46cc223a-f95c-467e-b836-ec7020f25814",
   "metadata": {},
   "outputs": [],
   "source": [
    "adata = sc.read_h5ad('../../results/05_fibroblast/01_clustering/fibroblast.h5ad')"
   ]
  },
  {
   "cell_type": "code",
   "execution_count": 4,
   "id": "dfb14a62-b072-4fcb-b701-51e2b25e9b5f",
   "metadata": {},
   "outputs": [],
   "source": [
    "adata.uns['log1p']['base'] = None"
   ]
  },
  {
   "cell_type": "code",
   "execution_count": 5,
   "id": "47d57cd8-3898-4910-aa64-cae6b6eb3533",
   "metadata": {},
   "outputs": [
    {
     "name": "stdout",
     "output_type": "stream",
     "text": [
      "WARNING: Default of the method has been changed to 't-test' from 't-test_overestim_var'\n"
     ]
    }
   ],
   "source": [
    "sc.tl.rank_genes_groups(adata, groupby=\"sub_clusters\", groups=[\"Fib1\"], reference=\"Fib2\")"
   ]
  },
  {
   "cell_type": "code",
   "execution_count": 6,
   "id": "e5159f08-7366-4433-95d6-79a1cd5121d5",
   "metadata": {},
   "outputs": [],
   "source": [
    "df = pd.DataFrame(adata.uns['rank_genes_groups']['names'])"
   ]
  },
  {
   "cell_type": "code",
   "execution_count": 7,
   "id": "5d67d5f4-1e2b-4452-9d57-523258e1ccaf",
   "metadata": {},
   "outputs": [
    {
     "data": {
      "text/html": [
       "<div>\n",
       "<style scoped>\n",
       "    .dataframe tbody tr th:only-of-type {\n",
       "        vertical-align: middle;\n",
       "    }\n",
       "\n",
       "    .dataframe tbody tr th {\n",
       "        vertical-align: top;\n",
       "    }\n",
       "\n",
       "    .dataframe thead th {\n",
       "        text-align: right;\n",
       "    }\n",
       "</style>\n",
       "<table border=\"1\" class=\"dataframe\">\n",
       "  <thead>\n",
       "    <tr style=\"text-align: right;\">\n",
       "      <th></th>\n",
       "      <th>Fib1</th>\n",
       "    </tr>\n",
       "  </thead>\n",
       "  <tbody>\n",
       "    <tr>\n",
       "      <th>0</th>\n",
       "      <td>WISP2</td>\n",
       "    </tr>\n",
       "    <tr>\n",
       "      <th>1</th>\n",
       "      <td>SCARA5</td>\n",
       "    </tr>\n",
       "    <tr>\n",
       "      <th>2</th>\n",
       "      <td>CLU</td>\n",
       "    </tr>\n",
       "    <tr>\n",
       "      <th>3</th>\n",
       "      <td>DCN</td>\n",
       "    </tr>\n",
       "    <tr>\n",
       "      <th>4</th>\n",
       "      <td>FBLN1</td>\n",
       "    </tr>\n",
       "  </tbody>\n",
       "</table>\n",
       "</div>"
      ],
      "text/plain": [
       "     Fib1\n",
       "0   WISP2\n",
       "1  SCARA5\n",
       "2     CLU\n",
       "3     DCN\n",
       "4   FBLN1"
      ]
     },
     "execution_count": 7,
     "metadata": {},
     "output_type": "execute_result"
    }
   ],
   "source": [
    "df.head()"
   ]
  },
  {
   "cell_type": "code",
   "execution_count": 8,
   "id": "489cdd02-1be0-4ec6-9486-2e8fbc3bdf26",
   "metadata": {},
   "outputs": [],
   "source": [
    "# Extract marker genes, log fold changes, and p-values\n",
    "results = []\n",
    "for cluster in adata.uns['rank_genes_groups']['names'].dtype.names:\n",
    "    cluster_marker_genes = adata.uns['rank_genes_groups']['names'][cluster]\n",
    "    logfoldchanges = adata.uns['rank_genes_groups']['logfoldchanges'][cluster]\n",
    "    pvals = adata.uns['rank_genes_groups']['pvals'][cluster]\n",
    "    pvals_adj = adata.uns['rank_genes_groups']['pvals_adj'][cluster]\n",
    "    \n",
    "    for gene, logfc, pval, pval_adj in zip(cluster_marker_genes, logfoldchanges, pvals, pvals_adj):\n",
    "        results.append({\n",
    "            'gene': gene,\n",
    "            'log fold change': logfc,\n",
    "            'p-value': pval,\n",
    "            'adjusted p-value': pval_adj,\n",
    "            'cluster': cluster\n",
    "        })"
   ]
  },
  {
   "cell_type": "code",
   "execution_count": 9,
   "id": "df73e3b9-7888-475b-b608-383acfcd131f",
   "metadata": {},
   "outputs": [],
   "source": [
    "# Convert to DataFrame\n",
    "markers_df = pd.DataFrame(results)"
   ]
  },
  {
   "cell_type": "code",
   "execution_count": 10,
   "id": "0b7efb97-0cda-4aef-a731-0ec02179ec0f",
   "metadata": {},
   "outputs": [],
   "source": [
    "markers_df = markers_df[markers_df['adjusted p-value'] < 0.01]"
   ]
  },
  {
   "cell_type": "code",
   "execution_count": 11,
   "id": "c75e1f51-991d-4687-bc71-3e01794dc9a1",
   "metadata": {},
   "outputs": [
    {
     "data": {
      "text/html": [
       "<div>\n",
       "<style scoped>\n",
       "    .dataframe tbody tr th:only-of-type {\n",
       "        vertical-align: middle;\n",
       "    }\n",
       "\n",
       "    .dataframe tbody tr th {\n",
       "        vertical-align: top;\n",
       "    }\n",
       "\n",
       "    .dataframe thead th {\n",
       "        text-align: right;\n",
       "    }\n",
       "</style>\n",
       "<table border=\"1\" class=\"dataframe\">\n",
       "  <thead>\n",
       "    <tr style=\"text-align: right;\">\n",
       "      <th></th>\n",
       "      <th>gene</th>\n",
       "      <th>log fold change</th>\n",
       "      <th>p-value</th>\n",
       "      <th>adjusted p-value</th>\n",
       "      <th>cluster</th>\n",
       "    </tr>\n",
       "  </thead>\n",
       "  <tbody>\n",
       "    <tr>\n",
       "      <th>0</th>\n",
       "      <td>WISP2</td>\n",
       "      <td>6.691909</td>\n",
       "      <td>0.0</td>\n",
       "      <td>0.0</td>\n",
       "      <td>Fib1</td>\n",
       "    </tr>\n",
       "    <tr>\n",
       "      <th>1</th>\n",
       "      <td>SCARA5</td>\n",
       "      <td>6.163282</td>\n",
       "      <td>0.0</td>\n",
       "      <td>0.0</td>\n",
       "      <td>Fib1</td>\n",
       "    </tr>\n",
       "    <tr>\n",
       "      <th>2</th>\n",
       "      <td>CLU</td>\n",
       "      <td>4.849216</td>\n",
       "      <td>0.0</td>\n",
       "      <td>0.0</td>\n",
       "      <td>Fib1</td>\n",
       "    </tr>\n",
       "    <tr>\n",
       "      <th>3</th>\n",
       "      <td>DCN</td>\n",
       "      <td>1.980738</td>\n",
       "      <td>0.0</td>\n",
       "      <td>0.0</td>\n",
       "      <td>Fib1</td>\n",
       "    </tr>\n",
       "    <tr>\n",
       "      <th>4</th>\n",
       "      <td>FBLN1</td>\n",
       "      <td>3.146318</td>\n",
       "      <td>0.0</td>\n",
       "      <td>0.0</td>\n",
       "      <td>Fib1</td>\n",
       "    </tr>\n",
       "    <tr>\n",
       "      <th>...</th>\n",
       "      <td>...</td>\n",
       "      <td>...</td>\n",
       "      <td>...</td>\n",
       "      <td>...</td>\n",
       "      <td>...</td>\n",
       "    </tr>\n",
       "    <tr>\n",
       "      <th>15270</th>\n",
       "      <td>F2RL2</td>\n",
       "      <td>-3.725028</td>\n",
       "      <td>0.0</td>\n",
       "      <td>0.0</td>\n",
       "      <td>Fib1</td>\n",
       "    </tr>\n",
       "    <tr>\n",
       "      <th>15271</th>\n",
       "      <td>COL11A1</td>\n",
       "      <td>-6.184157</td>\n",
       "      <td>0.0</td>\n",
       "      <td>0.0</td>\n",
       "      <td>Fib1</td>\n",
       "    </tr>\n",
       "    <tr>\n",
       "      <th>15272</th>\n",
       "      <td>TNN</td>\n",
       "      <td>-7.056352</td>\n",
       "      <td>0.0</td>\n",
       "      <td>0.0</td>\n",
       "      <td>Fib1</td>\n",
       "    </tr>\n",
       "    <tr>\n",
       "      <th>15273</th>\n",
       "      <td>EDNRA</td>\n",
       "      <td>-6.086195</td>\n",
       "      <td>0.0</td>\n",
       "      <td>0.0</td>\n",
       "      <td>Fib1</td>\n",
       "    </tr>\n",
       "    <tr>\n",
       "      <th>15274</th>\n",
       "      <td>POSTN</td>\n",
       "      <td>-3.474622</td>\n",
       "      <td>0.0</td>\n",
       "      <td>0.0</td>\n",
       "      <td>Fib1</td>\n",
       "    </tr>\n",
       "  </tbody>\n",
       "</table>\n",
       "<p>5732 rows × 5 columns</p>\n",
       "</div>"
      ],
      "text/plain": [
       "          gene  log fold change  p-value  adjusted p-value cluster\n",
       "0        WISP2         6.691909      0.0               0.0    Fib1\n",
       "1       SCARA5         6.163282      0.0               0.0    Fib1\n",
       "2          CLU         4.849216      0.0               0.0    Fib1\n",
       "3          DCN         1.980738      0.0               0.0    Fib1\n",
       "4        FBLN1         3.146318      0.0               0.0    Fib1\n",
       "...        ...              ...      ...               ...     ...\n",
       "15270    F2RL2        -3.725028      0.0               0.0    Fib1\n",
       "15271  COL11A1        -6.184157      0.0               0.0    Fib1\n",
       "15272      TNN        -7.056352      0.0               0.0    Fib1\n",
       "15273    EDNRA        -6.086195      0.0               0.0    Fib1\n",
       "15274    POSTN        -3.474622      0.0               0.0    Fib1\n",
       "\n",
       "[5732 rows x 5 columns]"
      ]
     },
     "execution_count": 11,
     "metadata": {},
     "output_type": "execute_result"
    }
   ],
   "source": [
    "markers_df"
   ]
  },
  {
   "cell_type": "code",
   "execution_count": 13,
   "id": "94519a8d-8c78-4e6e-8d51-247458e41d1a",
   "metadata": {},
   "outputs": [],
   "source": [
    "# Save to CSV\n",
    "markers_df.to_csv(f'{out_dir}/fib1_vs_fib2.csv', index=False)"
   ]
  },
  {
   "cell_type": "code",
   "execution_count": null,
   "id": "b5a0928c-0cdc-4310-a8b2-2507e6da2901",
   "metadata": {},
   "outputs": [],
   "source": []
  }
 ],
 "metadata": {
  "kernelspec": {
   "display_name": "Python [conda env:zl_ssc]",
   "language": "python",
   "name": "conda-env-zl_ssc-py"
  },
  "language_info": {
   "codemirror_mode": {
    "name": "ipython",
    "version": 3
   },
   "file_extension": ".py",
   "mimetype": "text/x-python",
   "name": "python",
   "nbconvert_exporter": "python",
   "pygments_lexer": "ipython3",
   "version": "3.10.14"
  }
 },
 "nbformat": 4,
 "nbformat_minor": 5
}
