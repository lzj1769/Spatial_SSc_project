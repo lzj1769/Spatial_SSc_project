{
 "cells": [
  {
   "cell_type": "code",
   "execution_count": 1,
   "id": "89918d20-36e3-44e4-b2fc-04c362eb9512",
   "metadata": {},
   "outputs": [],
   "source": [
    "import os\n",
    "import numpy as np\n",
    "import pandas as pd\n",
    "\n",
    "import anndata as ad\n",
    "import scanpy as sc\n",
    "import squidpy as sq"
   ]
  },
  {
   "cell_type": "code",
   "execution_count": 2,
   "id": "66507824-3fbe-4168-ad3d-e705119be027",
   "metadata": {},
   "outputs": [],
   "source": [
    "in_dir = \"../../results/spatial/cell2location\"\n",
    "out_dir = \"../../results/04_spatial/07_cell_neighborhood\"\n",
    "\n",
    "os.makedirs(out_dir, exist_ok=True)"
   ]
  },
  {
   "cell_type": "code",
   "execution_count": 3,
   "id": "7745e238-a56e-414c-a2dd-d8950b25388b",
   "metadata": {},
   "outputs": [],
   "source": [
    "sample_list = ['HC01', 'HC02', 'HC03', 'HC05',\n",
    "               'SSc4733', 'SSc4994', 'SSc5380', 'SSc5722',\n",
    "               'SSc-HL01', 'SSc-HL05', 'SSc-HL06', 'SSc-HL11',\n",
    "               'SSc-HL13', 'SSc-HL25', 'SSc-HL33', 'SSc-HL35']"
   ]
  },
  {
   "cell_type": "code",
   "execution_count": 4,
   "id": "588c56df-c7a1-462d-8543-3cb3ce98adda",
   "metadata": {},
   "outputs": [
    {
     "name": "stderr",
     "output_type": "stream",
     "text": [
      "100%|██████████| 1000/1000 [00:00<00:00, 4515.38/s]\n",
      "/data/pinello/SHARED_SOFTWARE/anaconda_latest/envs/zl_envs/zl_ssc/lib/python3.10/site-packages/squidpy/gr/_nhood.py:199: RuntimeWarning: invalid value encountered in divide\n",
      "  zscore = (count - perms.mean(axis=0)) / perms.std(axis=0)\n",
      "100%|██████████| 1000/1000 [00:00<00:00, 4030.41/s]\n",
      "/data/pinello/SHARED_SOFTWARE/anaconda_latest/envs/zl_envs/zl_ssc/lib/python3.10/site-packages/squidpy/gr/_nhood.py:199: RuntimeWarning: invalid value encountered in divide\n",
      "  zscore = (count - perms.mean(axis=0)) / perms.std(axis=0)\n",
      "100%|██████████| 1000/1000 [00:00<00:00, 3735.86/s]\n",
      "/data/pinello/SHARED_SOFTWARE/anaconda_latest/envs/zl_envs/zl_ssc/lib/python3.10/site-packages/squidpy/gr/_nhood.py:199: RuntimeWarning: invalid value encountered in divide\n",
      "  zscore = (count - perms.mean(axis=0)) / perms.std(axis=0)\n",
      "100%|██████████| 1000/1000 [00:00<00:00, 3960.89/s]\n",
      "/data/pinello/SHARED_SOFTWARE/anaconda_latest/envs/zl_envs/zl_ssc/lib/python3.10/site-packages/squidpy/gr/_nhood.py:199: RuntimeWarning: invalid value encountered in divide\n",
      "  zscore = (count - perms.mean(axis=0)) / perms.std(axis=0)\n",
      "100%|██████████| 1000/1000 [00:00<00:00, 7597.78/s]\n",
      "/data/pinello/SHARED_SOFTWARE/anaconda_latest/envs/zl_envs/zl_ssc/lib/python3.10/site-packages/squidpy/gr/_nhood.py:199: RuntimeWarning: invalid value encountered in divide\n",
      "  zscore = (count - perms.mean(axis=0)) / perms.std(axis=0)\n",
      "100%|██████████| 1000/1000 [00:00<00:00, 4035.97/s]\n",
      "/data/pinello/SHARED_SOFTWARE/anaconda_latest/envs/zl_envs/zl_ssc/lib/python3.10/site-packages/squidpy/gr/_nhood.py:199: RuntimeWarning: invalid value encountered in divide\n",
      "  zscore = (count - perms.mean(axis=0)) / perms.std(axis=0)\n",
      "100%|██████████| 1000/1000 [00:00<00:00, 4411.42/s]\n",
      "/data/pinello/SHARED_SOFTWARE/anaconda_latest/envs/zl_envs/zl_ssc/lib/python3.10/site-packages/squidpy/gr/_nhood.py:199: RuntimeWarning: invalid value encountered in divide\n",
      "  zscore = (count - perms.mean(axis=0)) / perms.std(axis=0)\n",
      "100%|██████████| 1000/1000 [00:00<00:00, 5060.87/s]\n",
      "/data/pinello/SHARED_SOFTWARE/anaconda_latest/envs/zl_envs/zl_ssc/lib/python3.10/site-packages/squidpy/gr/_nhood.py:199: RuntimeWarning: invalid value encountered in divide\n",
      "  zscore = (count - perms.mean(axis=0)) / perms.std(axis=0)\n",
      "100%|██████████| 1000/1000 [00:00<00:00, 7908.48/s]\n",
      "/data/pinello/SHARED_SOFTWARE/anaconda_latest/envs/zl_envs/zl_ssc/lib/python3.10/site-packages/squidpy/gr/_nhood.py:199: RuntimeWarning: invalid value encountered in divide\n",
      "  zscore = (count - perms.mean(axis=0)) / perms.std(axis=0)\n",
      "100%|██████████| 1000/1000 [00:00<00:00, 3624.12/s]\n",
      "/data/pinello/SHARED_SOFTWARE/anaconda_latest/envs/zl_envs/zl_ssc/lib/python3.10/site-packages/squidpy/gr/_nhood.py:199: RuntimeWarning: invalid value encountered in divide\n",
      "  zscore = (count - perms.mean(axis=0)) / perms.std(axis=0)\n",
      "100%|██████████| 1000/1000 [00:00<00:00, 7877.63/s]\n",
      "/data/pinello/SHARED_SOFTWARE/anaconda_latest/envs/zl_envs/zl_ssc/lib/python3.10/site-packages/squidpy/gr/_nhood.py:199: RuntimeWarning: invalid value encountered in divide\n",
      "  zscore = (count - perms.mean(axis=0)) / perms.std(axis=0)\n",
      "100%|██████████| 1000/1000 [00:00<00:00, 4921.22/s]\n",
      "100%|██████████| 1000/1000 [00:00<00:00, 7667.71/s]\n",
      "/data/pinello/SHARED_SOFTWARE/anaconda_latest/envs/zl_envs/zl_ssc/lib/python3.10/site-packages/squidpy/gr/_nhood.py:199: RuntimeWarning: invalid value encountered in divide\n",
      "  zscore = (count - perms.mean(axis=0)) / perms.std(axis=0)\n",
      "100%|██████████| 1000/1000 [00:00<00:00, 4076.88/s]\n",
      "/data/pinello/SHARED_SOFTWARE/anaconda_latest/envs/zl_envs/zl_ssc/lib/python3.10/site-packages/squidpy/gr/_nhood.py:199: RuntimeWarning: invalid value encountered in divide\n",
      "  zscore = (count - perms.mean(axis=0)) / perms.std(axis=0)\n",
      "100%|██████████| 1000/1000 [00:00<00:00, 5911.72/s]\n",
      "/data/pinello/SHARED_SOFTWARE/anaconda_latest/envs/zl_envs/zl_ssc/lib/python3.10/site-packages/squidpy/gr/_nhood.py:199: RuntimeWarning: invalid value encountered in divide\n",
      "  zscore = (count - perms.mean(axis=0)) / perms.std(axis=0)\n",
      "100%|██████████| 1000/1000 [00:00<00:00, 4962.10/s]\n",
      "/data/pinello/SHARED_SOFTWARE/anaconda_latest/envs/zl_envs/zl_ssc/lib/python3.10/site-packages/squidpy/gr/_nhood.py:199: RuntimeWarning: invalid value encountered in divide\n",
      "  zscore = (count - perms.mean(axis=0)) / perms.std(axis=0)\n"
     ]
    }
   ],
   "source": [
    "for sample in sample_list:\n",
    "    adata = sc.read_h5ad(f'../../results/spatial/cell2location/{sample}.h5ad')\n",
    "    sq.gr.spatial_neighbors(adata, delaunay=True)\n",
    "    sq.gr.nhood_enrichment(adata, cluster_key=\"pred_cell_type\")\n",
    "    \n",
    "    df = pd.DataFrame(data=adata.uns['pred_cell_type_nhood_enrichment']['zscore'])\n",
    "    df.index = adata.obs['pred_cell_type'].cat.categories\n",
    "    df.columns = adata.obs['pred_cell_type'].cat.categories\n",
    "    \n",
    "    # save results\n",
    "    df.to_csv(f'{out_dir}/{sample}.csv')"
   ]
  },
  {
   "cell_type": "code",
   "execution_count": null,
   "id": "e590e6bc-cc59-4128-b11a-c26e37821dc1",
   "metadata": {},
   "outputs": [],
   "source": []
  }
 ],
 "metadata": {
  "kernelspec": {
   "display_name": "Python [conda env:zl_ssc]",
   "language": "python",
   "name": "conda-env-zl_ssc-py"
  },
  "language_info": {
   "codemirror_mode": {
    "name": "ipython",
    "version": 3
   },
   "file_extension": ".py",
   "mimetype": "text/x-python",
   "name": "python",
   "nbconvert_exporter": "python",
   "pygments_lexer": "ipython3",
   "version": "3.10.14"
  }
 },
 "nbformat": 4,
 "nbformat_minor": 5
}
