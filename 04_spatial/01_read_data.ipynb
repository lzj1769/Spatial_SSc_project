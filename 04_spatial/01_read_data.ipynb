{
 "cells": [
  {
   "cell_type": "code",
   "execution_count": 1,
   "id": "a1112a69-e691-4077-8818-625a840171e5",
   "metadata": {},
   "outputs": [],
   "source": [
    "suppressMessages(library(Seurat))\n",
    "suppressMessages(library(ggplot2))\n",
    "suppressMessages(library(patchwork))\n",
    "suppressMessages(library(dplyr))\n",
    "suppressMessages(library(viridis))"
   ]
  },
  {
   "cell_type": "code",
   "execution_count": 2,
   "id": "9473968d-61bc-4a80-b8dd-1639250985c4",
   "metadata": {},
   "outputs": [],
   "source": [
    "if(!dir.exists(\"../../results/04_spatial/01_read_data\")){\n",
    "    dir.create(\"../../results/04_spatial/01_read_data\", recursive = TRUE)\n",
    "}"
   ]
  },
  {
   "cell_type": "code",
   "execution_count": 3,
   "id": "e2b9fbe7-d38e-4ba4-b141-1165e0d87389",
   "metadata": {},
   "outputs": [],
   "source": [
    "sample_list <- c('HC01', 'HC02', 'HC03', 'HC05',\n",
    "               'SSc4733', 'SSc4994', 'SSc5380', 'SSc5722',\n",
    "               'SSc-HL01', 'SSc-HL05', 'SSc-HL06', 'SSc-HL11',\n",
    "               'SSc-HL13', 'SSc-HL25', 'SSc-HL33', 'SSc-HL35')"
   ]
  },
  {
   "cell_type": "code",
   "execution_count": 4,
   "id": "87cf5481-ff20-4f63-859d-d940ba8e469b",
   "metadata": {},
   "outputs": [
    {
     "name": "stderr",
     "output_type": "stream",
     "text": [
      "Warning message:\n",
      "“Not validating Seurat objects”\n",
      "Normalizing layer: counts\n",
      "\n",
      "Warning message:\n",
      "“Not validating Seurat objects”\n",
      "Normalizing layer: counts\n",
      "\n",
      "Warning message:\n",
      "“Not validating Seurat objects”\n",
      "Normalizing layer: counts\n",
      "\n",
      "Normalizing layer: counts\n",
      "\n",
      "Warning message:\n",
      "“Not validating Seurat objects”\n",
      "Normalizing layer: counts\n",
      "\n",
      "Warning message:\n",
      "“Not validating Seurat objects”\n",
      "Normalizing layer: counts\n",
      "\n",
      "Warning message:\n",
      "“Not validating Seurat objects”\n",
      "Normalizing layer: counts\n",
      "\n",
      "Warning message:\n",
      "“Not validating Seurat objects”\n",
      "Normalizing layer: counts\n",
      "\n",
      "Warning message:\n",
      "“Not validating Seurat objects”\n",
      "Normalizing layer: counts\n",
      "\n",
      "Normalizing layer: counts\n",
      "\n",
      "Warning message:\n",
      "“Not validating Seurat objects”\n",
      "Normalizing layer: counts\n",
      "\n",
      "Warning message:\n",
      "“Not validating Seurat objects”\n",
      "Normalizing layer: counts\n",
      "\n",
      "Normalizing layer: counts\n",
      "\n",
      "Normalizing layer: counts\n",
      "\n",
      "Warning message:\n",
      "“Not validating Seurat objects”\n",
      "Normalizing layer: counts\n",
      "\n",
      "Warning message:\n",
      "“Not validating Seurat objects”\n",
      "Normalizing layer: counts\n",
      "\n"
     ]
    }
   ],
   "source": [
    "for(sample in sample_list){\n",
    "    obj <- Load10X_Spatial(glue::glue('../../data/spatial/{sample}'))\n",
    "    obj <- subset(obj, subset = nFeature_Spatial >= 100)\n",
    "    \n",
    "    obj <- NormalizeData(obj)\n",
    "    \n",
    "    saveRDS(obj, glue::glue(\"../../results/04_spatial/01_read_data/{sample}.rds\"))\n",
    "}"
   ]
  }
 ],
 "metadata": {
  "kernelspec": {
   "display_name": "R [conda env:zl_ssc]",
   "language": "R",
   "name": "conda-env-zl_ssc-r"
  },
  "language_info": {
   "codemirror_mode": "r",
   "file_extension": ".r",
   "mimetype": "text/x-r-source",
   "name": "R",
   "pygments_lexer": "r",
   "version": "4.3.3"
  }
 },
 "nbformat": 4,
 "nbformat_minor": 5
}
