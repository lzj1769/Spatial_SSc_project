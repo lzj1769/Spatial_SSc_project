{
 "cells": [
  {
   "cell_type": "code",
   "execution_count": null,
   "id": "b7ff7e71-a487-4ab9-82b9-64586d277e82",
   "metadata": {},
   "outputs": [],
   "source": [
    "import warnings\n",
    "warnings.filterwarnings('ignore')\n",
    "\n",
    "import os\n",
    "import scanpy as sc\n",
    "import decoupler as dc\n",
    "import numpy as np\n",
    "import pandas as pd"
   ]
  },
  {
   "cell_type": "code",
   "execution_count": null,
   "id": "9e159d9c-bd44-4685-8fb7-c3debfa0db18",
   "metadata": {},
   "outputs": [],
   "source": [
    "in_dir = '../../results/spatial/filtered_data'\n",
    "out_dir = '../../results/04_spatial/27_decoupler'\n",
    "os.makedirs(out_dir, exist_ok=True)"
   ]
  },
  {
   "cell_type": "code",
   "execution_count": null,
   "id": "7f84175d-b23e-4953-9efa-dc3ab6b79fc8",
   "metadata": {},
   "outputs": [],
   "source": [
    "sample_list = ['HC01', 'HC02', 'HC03', 'HC05',\n",
    "               'SSc4733', 'SSc4994', 'SSc5380', 'SSc5722',\n",
    "               'SSc-HL01', 'SSc-HL05', 'SSc-HL06', 'SSc-HL11',\n",
    "               'SSc-HL13', 'SSc-HL25', 'SSc-HL33', 'SSc-HL35']"
   ]
  },
  {
   "cell_type": "code",
   "execution_count": null,
   "id": "c2f7ee24-69fc-473e-8e31-3e9bd9b0285d",
   "metadata": {},
   "outputs": [],
   "source": [
    "def process_adata(adata):\n",
    "    sc.pp.normalize_total(adata)\n",
    "    sc.pp.log1p(adata)\n",
    "    \n",
    "#     # Identify highly variable genes\n",
    "#     sc.pp.highly_variable_genes(adata)\n",
    "\n",
    "#     # Filter higly variable genes\n",
    "#     adata.raw = adata\n",
    "#     adata = adata[:, adata.var.highly_variable]\n",
    "\n",
    "    # Scale the data\n",
    "    # sc.pp.scale(adata)\n",
    "    \n",
    "    return adata"
   ]
  },
  {
   "cell_type": "markdown",
   "id": "4648e61a-a622-40fc-b93c-acfe0b94fbf3",
   "metadata": {
    "tags": []
   },
   "source": [
    "## 1. Pathway activity"
   ]
  },
  {
   "cell_type": "code",
   "execution_count": 6,
   "id": "23b30dd2-bfff-4b1b-919d-3f4b19ded1eb",
   "metadata": {},
   "outputs": [],
   "source": [
    "os.makedirs(f\"{out_dir}/pathway_activity\", exist_ok=True)\n",
    "\n",
    "progeny = dc.get_progeny(organism='human', top=500)\n",
    "for sample in sample_list:\n",
    "    adata = sc.read_h5ad(f'{in_dir}/{sample}.h5ad')\n",
    "    adata = process_adata(adata)\n",
    "    \n",
    "    dc.run_mlm(mat=adata, net=progeny, \n",
    "               source='source', target='target',\n",
    "               weight='weight', verbose=False, use_raw=False)\n",
    "    \n",
    "    acts = dc.get_acts(adata, obsm_key='mlm_estimate')    \n",
    "    acts.write_h5ad(f'{out_dir}/pathway_activity/{sample}.h5ad')\n",
    "    \n",
    "    df = pd.DataFrame(acts.X)\n",
    "    df.columns = acts.var_names\n",
    "    df.index = acts.obs_names\n",
    "    df.to_csv(f'{out_dir}/pathway_activity/{sample}.csv')"
   ]
  },
  {
   "cell_type": "markdown",
   "id": "2ea19590-d5a2-48c0-84cf-a094c5c3b0e3",
   "metadata": {},
   "source": [
    "## 2. TF activity"
   ]
  },
  {
   "cell_type": "code",
   "execution_count": null,
   "id": "25fab025-bea6-40f1-9d22-f95c93bb8fc5",
   "metadata": {},
   "outputs": [],
   "source": [
    "os.makedirs(f\"{out_dir}/tf_activity\", exist_ok=True)\n",
    "\n",
    "net = dc.get_collectri(organism='human', split_complexes=False)\n",
    "for sample in sample_list:\n",
    "    adata = sc.read_h5ad(f'{in_dir}/{sample}.h5ad')\n",
    "    adata = process_adata(adata)\n",
    "    \n",
    "    dc.run_mlm(mat=adata,net=net, \n",
    "               source='source', target='target',\n",
    "               weight='weight', verbose=False, use_raw=False)\n",
    "    \n",
    "    acts = dc.get_acts(adata, obsm_key='mlm_estimate')    \n",
    "    acts.write_h5ad(f'{out_dir}/tf_activity/{sample}.h5ad')\n",
    "    \n",
    "    df = pd.DataFrame(acts.X)\n",
    "    df.columns = acts.var_names\n",
    "    df.index = acts.obs_names\n",
    "    df.to_csv(f'{out_dir}/tf_activity/{sample}.csv')"
   ]
  },
  {
   "cell_type": "code",
   "execution_count": null,
   "id": "1ed4a408-25e3-478a-942c-15e342801d55",
   "metadata": {},
   "outputs": [],
   "source": []
  }
 ],
 "metadata": {
  "kernelspec": {
   "display_name": "Python [conda env:zl_ssc]",
   "language": "python",
   "name": "conda-env-zl_ssc-py"
  },
  "language_info": {
   "codemirror_mode": {
    "name": "ipython",
    "version": 3
   },
   "file_extension": ".py",
   "mimetype": "text/x-python",
   "name": "python",
   "nbconvert_exporter": "python",
   "pygments_lexer": "ipython3",
   "version": "3.10.14"
  }
 },
 "nbformat": 4,
 "nbformat_minor": 5
}
